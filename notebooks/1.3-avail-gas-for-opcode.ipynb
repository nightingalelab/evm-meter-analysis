{
 "cells": [
  {
   "cell_type": "markdown",
   "id": "0c948e3a",
   "metadata": {},
   "source": [
    "# Data collection - gathering available gas for opcode usage\n",
    "\n",
    "#### Maria Silva, April 2025\n",
    "\n",
    "## 1. Imports and settings\n"
   ]
  },
  {
   "cell_type": "code",
   "execution_count": 1,
   "id": "67602c25",
   "metadata": {},
   "outputs": [],
   "source": [
    "import os\n",
    "import sys\n",
    "import duckdb\n",
    "import pandas as pd\n",
    "from tqdm import tqdm"
   ]
  },
  {
   "cell_type": "code",
   "execution_count": 2,
   "id": "9615504a",
   "metadata": {},
   "outputs": [],
   "source": [
    "# Main directories and files\n",
    "current_path = os.getcwd()\n",
    "repo_dir = os.path.abspath(os.path.join(current_path, \"..\"))\n",
    "data_dir = os.path.join(repo_dir, \"data\")\n",
    "src_dir = os.path.join(repo_dir, \"src\")\n",
    "raw_traces_dir = os.path.join(data_dir, \"raw_trace_data\")"
   ]
  },
  {
   "cell_type": "code",
   "execution_count": 3,
   "id": "c4d93f57",
   "metadata": {},
   "outputs": [],
   "source": [
    "# import internal packages\n",
    "sys.path.append(src_dir)\n",
    "from data.path_mng import get_parquet_path_patterns, chunks"
   ]
  },
  {
   "cell_type": "markdown",
   "id": "41fdb2a0",
   "metadata": {},
   "source": [
    "## 2. Define and run query on raw trace data"
   ]
  },
  {
   "cell_type": "code",
   "execution_count": 4,
   "id": "988c91a1",
   "metadata": {},
   "outputs": [
    {
     "name": "stderr",
     "output_type": "stream",
     "text": [
      "100%|██████████| 400/400 [03:08<00:00,  2.12it/s]"
     ]
    },
    {
     "name": "stdout",
     "output_type": "stream",
     "text": [
      "<class 'pandas.core.frame.DataFrame'>\n",
      "Index: 290953 entries, 0 to 392\n",
      "Data columns (total 4 columns):\n",
      " #   Column           Non-Null Count   Dtype \n",
      "---  ------           --------------   ----- \n",
      " 0   block_height     290953 non-null  int64 \n",
      " 1   tx_hash          290953 non-null  object\n",
      " 2   first_avail_gas  290953 non-null  int64 \n",
      " 3   last_avail_gas   290953 non-null  int64 \n",
      "dtypes: int64(3), object(1)\n",
      "memory usage: 11.1+ MB\n"
     ]
    },
    {
     "name": "stderr",
     "output_type": "stream",
     "text": [
      "\n"
     ]
    }
   ],
   "source": [
    "# Get list of raw trace traces and partition\n",
    "raw_data_dir = os.path.join(data_dir, \"raw_trace_data\")\n",
    "block_dirs = get_parquet_path_patterns(raw_data_dir)\n",
    "block_dirs_chunks = list(chunks(block_dirs, n=5))\n",
    "con = duckdb.connect()\n",
    "# Run query by partition\n",
    "df = pd.DataFrame()\n",
    "for dirs_chunk in tqdm(block_dirs_chunks):\n",
    "    query = f\"\"\"\n",
    "    SELECT block_height, tx_hash, FIRST(gas) AS first_avail_gas, LAST(gas) AS last_avail_gas\n",
    "    FROM read_parquet(\n",
    "            { dirs_chunk },\n",
    "            hive_partitioning = TRUE,\n",
    "            union_by_name=True\n",
    "            )\n",
    "    GROUP BY block_height, tx_hash;\n",
    "    \"\"\"\n",
    "    query_df = con.execute(query).fetchdf()\n",
    "    df = pd.concat([df, query_df])\n",
    "# Print info\n",
    "df.info()"
   ]
  },
  {
   "cell_type": "code",
   "execution_count": 5,
   "id": "682c6b4e",
   "metadata": {},
   "outputs": [],
   "source": [
    "# Define output file\n",
    "start_block = df[\"block_height\"].min()\n",
    "end_block = df[\"block_height\"].max()\n",
    "file_dir = os.path.join(data_dir, f\"avail_gas_for_opcodes_{start_block}_{end_block}.parquet\")\n",
    "# Save as parquet\n",
    "df.to_parquet(file_dir, index=False)"
   ]
  }
 ],
 "metadata": {
  "kernelspec": {
   "display_name": ".venv",
   "language": "python",
   "name": "python3"
  },
  "language_info": {
   "codemirror_mode": {
    "name": "ipython",
    "version": 3
   },
   "file_extension": ".py",
   "mimetype": "text/x-python",
   "name": "python",
   "nbconvert_exporter": "python",
   "pygments_lexer": "ipython3",
   "version": "3.11.11"
  }
 },
 "nbformat": 4,
 "nbformat_minor": 5
}
