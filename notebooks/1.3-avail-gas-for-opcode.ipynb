{
 "cells": [
  {
   "cell_type": "markdown",
   "id": "0c948e3a",
   "metadata": {},
   "source": [
    "# Data collection - gathering available gas for opcode usage\n",
    "\n",
    "#### Maria Silva, April 2025\n",
    "\n",
    "## 1. Imports and settings\n"
   ]
  },
  {
   "cell_type": "code",
   "execution_count": 9,
   "id": "67602c25",
   "metadata": {},
   "outputs": [],
   "source": [
    "import os\n",
    "import duckdb"
   ]
  },
  {
   "cell_type": "code",
   "execution_count": 10,
   "id": "9615504a",
   "metadata": {},
   "outputs": [],
   "source": [
    "# Main directories and files\n",
    "current_path = os.getcwd()\n",
    "repo_dir = os.path.abspath(os.path.join(current_path, \"..\"))\n",
    "data_dir = os.path.join(repo_dir, \"data\")\n",
    "raw_traces_dir = os.path.join(data_dir, \"raw_trace_data\")"
   ]
  },
  {
   "cell_type": "markdown",
   "id": "41fdb2a0",
   "metadata": {},
   "source": [
    "## 2. Define and run query on raw trace data"
   ]
  },
  {
   "cell_type": "code",
   "execution_count": 11,
   "id": "988c91a1",
   "metadata": {},
   "outputs": [
    {
     "name": "stdout",
     "output_type": "stream",
     "text": [
      "<class 'pandas.core.frame.DataFrame'>\n",
      "RangeIndex: 645 entries, 0 to 644\n",
      "Data columns (total 3 columns):\n",
      " #   Column        Non-Null Count  Dtype \n",
      "---  ------        --------------  ----- \n",
      " 0   block_height  645 non-null    int64 \n",
      " 1   tx_hash       645 non-null    object\n",
      " 2   tx_avail_gas  645 non-null    int64 \n",
      "dtypes: int64(2), object(1)\n",
      "memory usage: 15.2+ KB\n"
     ]
    }
   ],
   "source": [
    "# Define query\n",
    "filename = os.path.join(raw_traces_dir, \"*\", \"*\", \"file.parquet\")\n",
    "query = f\"\"\"\n",
    "SELECT block_height, tx_hash, MAX(gas) AS tx_avail_gas\n",
    "FROM read_parquet(\n",
    "    '{filename}', \n",
    "    hive_partitioning=True, \n",
    "    filename = True,\n",
    "    union_by_name=True\n",
    "    )\n",
    "GROUP BY block_height, tx_hash;\n",
    "\"\"\"\n",
    "# Run query and fetch to DataFrame\n",
    "df = duckdb.connect().execute(query).fetchdf()\n",
    "# Print info\n",
    "df.info()"
   ]
  },
  {
   "cell_type": "code",
   "execution_count": 12,
   "id": "682c6b4e",
   "metadata": {},
   "outputs": [],
   "source": [
    "# Define output file\n",
    "start_block = df[\"block_height\"].min()\n",
    "end_block = df[\"block_height\"].max()\n",
    "file_dir = os.path.join(data_dir, f\"avail_gas_for_opcodes_{start_block}_{end_block}.parquet\")\n",
    "# Save as parquet\n",
    "df.to_parquet(file_dir, index=False)"
   ]
  }
 ],
 "metadata": {
  "kernelspec": {
   "display_name": ".venv",
   "language": "python",
   "name": "python3"
  },
  "language_info": {
   "codemirror_mode": {
    "name": "ipython",
    "version": 3
   },
   "file_extension": ".py",
   "mimetype": "text/x-python",
   "name": "python",
   "nbconvert_exporter": "python",
   "pygments_lexer": "ipython3",
   "version": "3.12.4"
  }
 },
 "nbformat": 4,
 "nbformat_minor": 5
}
