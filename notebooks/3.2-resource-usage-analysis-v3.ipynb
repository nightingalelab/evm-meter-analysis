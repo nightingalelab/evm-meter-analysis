{
 "cells": [
  {
   "cell_type": "markdown",
   "metadata": {},
   "source": [
    "# Resource usage - exploratory analysis\n",
    "\n",
    "#### Maria Silva, April 2025\n",
    "\n",
    "## 1. Imports and settings\n",
    "\n",
    "Let's start by importing the necessary libraries and setting up some directories and files.\n"
   ]
  },
  {
   "cell_type": "code",
   "execution_count": null,
   "metadata": {},
   "outputs": [],
   "source": [
    "import os\n",
    "import sys\n",
    "import duckdb\n",
    "import pandas as pd\n",
    "import numpy as np\n",
    "import matplotlib.pyplot as plt\n",
    "import seaborn as sns\n",
    "\n",
    "import warnings\n",
    "\n",
    "warnings.filterwarnings(\"ignore\")"
   ]
  },
  {
   "cell_type": "code",
   "execution_count": null,
   "metadata": {},
   "outputs": [],
   "source": [
    "# plotting theme\n",
    "sns.set_theme(\n",
    "    style=\"whitegrid\", palette=\"Set2\", rc={\"figure.dpi\": 500, \"axes.titlesize\": 15}\n",
    ")"
   ]
  },
  {
   "cell_type": "code",
   "execution_count": null,
   "metadata": {},
   "outputs": [],
   "source": [
    "# Main directories and files\n",
    "current_path = os.getcwd()\n",
    "repo_dir = os.path.abspath(os.path.join(current_path, \"..\"))\n",
    "src_dir = os.path.join(repo_dir, \"src\")\n",
    "data_dir = os.path.join(repo_dir, \"data\")\n",
    "op_files_dir = os.path.join(data_dir, \"aggregated_opcodes_v3\", \"*\", \"file.parquet\")"
   ]
  },
  {
   "cell_type": "code",
   "execution_count": null,
   "metadata": {},
   "outputs": [],
   "source": [
    "# import internal packages\n",
    "sys.path.append(src_dir)\n",
    "from data.gas_cost import compute_component_gas_costs_per_tx\n",
    "from resource_gas_split import compute_resource_gas_cost_per_tx"
   ]
  },
  {
   "cell_type": "markdown",
   "metadata": {},
   "source": [
    "## 2. Load data\n",
    "\n",
    "Now, let's load the data. We will start by loading the opcodes used for blocks 22000000 to 22001999."
   ]
  },
  {
   "cell_type": "code",
   "execution_count": null,
   "metadata": {},
   "outputs": [],
   "source": [
    "# Load parquet files with duckdb\n",
    "query = f\"\"\"\n",
    "SELECT *\n",
    "FROM read_parquet(\n",
    "    '{op_files_dir}', \n",
    "    hive_partitioning=True, \n",
    "    union_by_name=True\n",
    "    )\n",
    "WHERE block_height BETWEEN 22000000 AND 22001999;\n",
    "\"\"\"\n",
    "agg_trace_df = duckdb.connect().execute(query).fetchdf()\n",
    "# Drop columns\n",
    "agg_trace_df = agg_trace_df.drop(columns=[\"block_range\"])\n",
    "# Clean up repeated opcodes\n",
    "agg_trace_df[\"op\"] = np.where(agg_trace_df[\"op\"].str.startswith(\"DUP\"), \"DUP\", agg_trace_df[\"op\"])\n",
    "agg_trace_df[\"op\"] = np.where(agg_trace_df[\"op\"].str.startswith(\"SWAP\"), \"SWAP\", agg_trace_df[\"op\"])\n",
    "agg_trace_df[\"op\"] = np.where(\n",
    "    (agg_trace_df[\"op\"].str.startswith(\"PUSH\")) & (agg_trace_df[\"op\"] != \"PUSH0\"),\n",
    "    \"PUSH\",\n",
    "    agg_trace_df[\"op\"],\n",
    ")\n",
    "# Compute total gas cost for opcode\n",
    "agg_trace_df[\"op_total_gas_cost\"] = agg_trace_df[\"op_gas_cost\"] * agg_trace_df[\"op_gas_pair_count\"]\n",
    "# Print info\n",
    "agg_trace_df.info()"
   ]
  },
  {
   "cell_type": "code",
   "execution_count": null,
   "metadata": {},
   "outputs": [],
   "source": [
    "agg_trace_df[\"block_height\"].agg([\"min\", \"max\"])"
   ]
  },
  {
   "cell_type": "markdown",
   "metadata": {},
   "source": [
    "Now, we can load the gas used per transaction."
   ]
  },
  {
   "cell_type": "code",
   "execution_count": null,
   "metadata": {},
   "outputs": [],
   "source": [
    "# Load parquet file\n",
    "tx_gas_info_df = pd.read_parquet(\n",
    "    os.path.join(data_dir, \"tx_gas_usage_22000000_22006000.parquet\")\n",
    ")\n",
    "# Make sure we don't more blocks than agg_trace_df\n",
    "block_heights = agg_trace_df[\"block_height\"].unique().tolist()\n",
    "tx_gas_info_df = tx_gas_info_df[tx_gas_info_df[\"block_height\"].isin(block_heights)]\n",
    "# Print info\n",
    "tx_gas_info_df.info()"
   ]
  },
  {
   "cell_type": "code",
   "execution_count": null,
   "metadata": {},
   "outputs": [],
   "source": [
    "# Load parquet file\n",
    "avail_gas_df = pd.read_parquet(\n",
    "    os.path.join(data_dir, \"avail_gas_for_opcodes_22000000_22000004.parquet\")\n",
    ")\n",
    "# Make sure we don't more blocks than agg_trace_df\n",
    "block_heights = agg_trace_df[\"block_height\"].unique().tolist()\n",
    "avail_gas_df = avail_gas_df[avail_gas_df[\"block_height\"].isin(block_heights)]\n",
    "# Print info\n",
    "avail_gas_df.info()"
   ]
  },
  {
   "cell_type": "markdown",
   "metadata": {},
   "source": [
    "## 3. Process data"
   ]
  },
  {
   "cell_type": "code",
   "execution_count": null,
   "metadata": {},
   "outputs": [],
   "source": [
    "# Compute gas costs by component\n",
    "comp_df = compute_component_gas_costs_per_tx(agg_trace_df, tx_gas_info_df, avail_gas_df)\n",
    "comp_df.info()"
   ]
  },
  {
   "cell_type": "code",
   "execution_count": null,
   "metadata": {},
   "outputs": [],
   "source": [
    "# How many with positive intrinsic costs?\n",
    "sum(comp_df[\"intrinsic_access_cost\"]>0)/len(comp_df)"
   ]
  },
  {
   "cell_type": "code",
   "execution_count": null,
   "metadata": {},
   "outputs": [],
   "source": [
    "# Compute gas cost by resource\n",
    "# Failed transactions are unassigned...\n",
    "fail_txs = tx_gas_info_df[~tx_gas_info_df[\"is_success\"]][\"tx_hash\"].values.tolist()\n",
    "print(\"Failed txs:\", len(fail_txs)/len(tx_gas_info_df))\n",
    "\n",
    "gas_by_resource_df = compute_resource_gas_cost_per_tx(\n",
    "    agg_trace_df,\n",
    "    tx_gas_info_df,\n",
    "    comp_df,\n",
    "    fail_txs,\n",
    ")\n",
    "gas_by_resource_df.head()"
   ]
  },
  {
   "cell_type": "code",
   "execution_count": null,
   "metadata": {},
   "outputs": [],
   "source": [
    "# How much gas is unassigned?\n",
    "total_gas = (\n",
    "    gas_by_resource_df.drop(columns=[\"tx_hash\", \"block_height\", \"State (exc. Refunds)\"])\n",
    "    .sum(axis=1)\n",
    "    .sum()\n",
    ")\n",
    "\n",
    "print(gas_by_resource_df[\"Unassigned\"].sum())\n",
    "print(gas_by_resource_df[\"Unassigned\"].sum() / total_gas)"
   ]
  },
  {
   "cell_type": "code",
   "execution_count": null,
   "metadata": {},
   "outputs": [],
   "source": [
    "# Melt (for plotting)\n",
    "melt_gas_by_resource_df = gas_by_resource_df.melt(\n",
    "    id_vars=[\"block_height\", \"tx_hash\"], var_name=\"Resource\", value_name=\"gas_cost\"\n",
    ").sort_values(\"Resource\")\n",
    "\n",
    "melt_gas_by_resource_df.head()"
   ]
  },
  {
   "cell_type": "markdown",
   "metadata": {},
   "source": [
    "## 4. Analyze gas by resource"
   ]
  },
  {
   "cell_type": "code",
   "execution_count": null,
   "metadata": {},
   "outputs": [],
   "source": [
    "# Transactions with unassigned gas\n",
    "total_gas = (\n",
    "    gas_by_resource_df.drop(columns=[\"tx_hash\", \"block_height\", \"State (exc. Refunds)\"])\n",
    "    .sum(axis=1)\n",
    "    .sum()\n",
    ")\n",
    "print(sum(gas_by_resource_df[\"Unassigned\"]>0)/len(gas_by_resource_df))\n",
    "print(gas_by_resource_df[\"Unassigned\"].sum())\n",
    "print(gas_by_resource_df[\"Unassigned\"].sum() / total_gas)"
   ]
  },
  {
   "cell_type": "code",
   "execution_count": null,
   "metadata": {},
   "outputs": [],
   "source": [
    "# How many with positive intrinsic costs?\n",
    "sum(comp_df[\"intrinsic_access_cost\"]>0)/len(comp_df)"
   ]
  },
  {
   "cell_type": "code",
   "execution_count": null,
   "metadata": {},
   "outputs": [],
   "source": [
    "plt.figure(figsize=(10, 4))\n",
    "sns.boxplot(\n",
    "    y=\"Resource\",\n",
    "    x=\"gas_cost\",\n",
    "    data=melt_gas_by_resource_df[melt_gas_by_resource_df[\"Resource\"]!=\"Unassigned\"],\n",
    "    hue=\"Resource\",\n",
    "    legend=False,\n",
    "    showfliers=False,\n",
    ")\n",
    "plt.title(\n",
    "    \"Distribution of transaction gas spent by resource from blocks 22000020 to 22001999 \\n (excluding outliers)\",\n",
    "    pad=25,\n",
    ")\n",
    "plt.ylabel(\"\")\n",
    "plt.xlabel(\"Transaction gas cost in gas units\")\n",
    "plt.tight_layout()\n",
    "plt.show()"
   ]
  },
  {
   "cell_type": "code",
   "execution_count": null,
   "metadata": {},
   "outputs": [],
   "source": [
    "temp_df = (\n",
    "    melt_gas_by_resource_df[\n",
    "        melt_gas_by_resource_df[\"Resource\"] != \"State (exc. Refunds)\"\n",
    "    ]\n",
    "    .groupby([\"block_height\", \"Resource\"])[\"gas_cost\"]\n",
    "    .sum()\n",
    "    / 1_000_000\n",
    ")\n",
    "temp_df = temp_df.reset_index().sort_values(\"Resource\")\n",
    "temp_df[\"block_height\"] = temp_df[\"block_height\"] - 22000000\n",
    "\n",
    "plt.figure(figsize=(10, 4))\n",
    "ax = sns.histplot(\n",
    "    temp_df,\n",
    "    x=\"block_height\",\n",
    "    weights=\"gas_cost\",\n",
    "    hue=\"Resource\",\n",
    "    multiple=\"stack\",\n",
    "    binwidth=10,\n",
    "    alpha=1.0\n",
    ")\n",
    "plt.title(\n",
    "    \"Resource contribution to total gas used (grouped by every 10 blocks)\",\n",
    "    pad=25,\n",
    ")\n",
    "plt.xlabel(\"Block height (starting at 22000000)\")\n",
    "plt.ylabel(\"Total gas units (Millions)\")\n",
    "plt.axhline(y=180, color='grey', linestyle='--', label='target block size')\n",
    "sns.move_legend(ax, \"upper left\", bbox_to_anchor=(1, 1))\n",
    "plt.tight_layout()\n",
    "plt.show()"
   ]
  },
  {
   "cell_type": "code",
   "execution_count": null,
   "metadata": {},
   "outputs": [],
   "source": [
    "temp_df = (\n",
    "    melt_gas_by_resource_df[\n",
    "        melt_gas_by_resource_df[\"Resource\"] != \"State (exc. Refunds)\"\n",
    "    ]\n",
    "    .groupby([\"Resource\"])[\"gas_cost\"]\n",
    "    .sum()\n",
    "    / 1_000_000\n",
    ")\n",
    "print(temp_df.sort_values(ascending=False))\n",
    "print(temp_df.sort_values(ascending=False)/temp_df.sum())"
   ]
  },
  {
   "cell_type": "code",
   "execution_count": null,
   "metadata": {},
   "outputs": [],
   "source": [
    "temp_df = gas_by_resource_df.drop(\n",
    "    columns=[\"block_height\", \"Unassigned\", \"State (exc. Refunds)\"]\n",
    ").set_index(\"tx_hash\")\n",
    "corr_mat = temp_df.corr()\n",
    "plt.figure(figsize=(4.5, 4.5))\n",
    "ax = sns.heatmap(corr_mat, cmap=\"YlGnBu\", linewidths=0.5, vmin=0, vmax=1)\n",
    "plt.title(\"Resource gas usage correlation\", pad=25)\n",
    "plt.tight_layout()\n",
    "plt.show()"
   ]
  },
  {
   "cell_type": "markdown",
   "metadata": {},
   "source": [
    "## 5. Analyze block utilization"
   ]
  },
  {
   "cell_type": "code",
   "execution_count": null,
   "metadata": {},
   "outputs": [],
   "source": [
    "totals_df = (\n",
    "    gas_by_resource_df.drop(columns=[\"tx_hash\", \"State (exc. Refunds)\"])\n",
    "    .groupby(\"block_height\")\n",
    "    .sum()\n",
    ")\n",
    "totals_df.head()"
   ]
  },
  {
   "cell_type": "code",
   "execution_count": null,
   "metadata": {},
   "outputs": [],
   "source": [
    "# One dimensional metering\n",
    "one_dim_df = totals_df.sum(axis=1).reset_index()\n",
    "one_dim_df.columns = [\"block_height\", \"usage\"]\n",
    "one_dim_df[\"perc_over_limit\"] = one_dim_df[\"usage\"] / 36_000_000\n",
    "one_dim_df[\"utilization\"] = (one_dim_df[\"usage\"] - 18_000_000) / 18_000_000\n",
    "one_dim_df[\"meter\"] = \"Unidimensional\"\n",
    "one_dim_df = one_dim_df.reset_index()\n",
    "\n",
    "# Two dimensional -  State & History vs. others\n",
    "two_dim_df = pd.DataFrame(\n",
    "    {\n",
    "        \"state_history\": totals_df[\"State\"] + totals_df[\"History\"],\n",
    "        \"others\": totals_df.sum(axis=1) - totals_df[\"State\"] - totals_df[\"History\"],\n",
    "    }\n",
    ")\n",
    "two_dim_df[\"usage\"] = two_dim_df.max(axis=1)\n",
    "two_dim_df[\"perc_over_limit\"] = two_dim_df[\"usage\"] / 36_000_000\n",
    "two_dim_df[\"utilization\"] = (two_dim_df[\"usage\"] - 18_000_000) / 18_000_000\n",
    "two_dim_df[\"meter\"] = \"State/history vs. Others\"\n",
    "two_dim_df = two_dim_df.reset_index()\n",
    "\n",
    "# Two dimensional -  State & History vs. Storage Access vs. others\n",
    "three_dim_df = pd.DataFrame(\n",
    "    {\n",
    "        \"state_history\": totals_df[\"State\"] + totals_df[\"History\"],\n",
    "        \"access\": totals_df[\"Access\"],\n",
    "        \"others\": totals_df.sum(axis=1)\n",
    "        - totals_df[\"State\"]\n",
    "        - totals_df[\"History\"]\n",
    "        - totals_df[\"Access\"],\n",
    "    }\n",
    ")\n",
    "three_dim_df[\"usage\"] = three_dim_df.max(axis=1)\n",
    "three_dim_df[\"perc_over_limit\"] = three_dim_df[\"usage\"] / 36_000_000\n",
    "three_dim_df[\"utilization\"] = (three_dim_df[\"usage\"] - 18_000_000) / 18_000_000\n",
    "three_dim_df[\"meter\"] = \"State/history vs. Access vs. Others\"\n",
    "three_dim_df = three_dim_df.reset_index()\n",
    "\n",
    "# Aggregate all dataframes\n",
    "util_melt_df = pd.concat(\n",
    "    [\n",
    "        one_dim_df[[\"block_height\", \"meter\", \"usage\", \"perc_over_limit\", \"utilization\"]],\n",
    "        two_dim_df[[\"block_height\",\"meter\", \"usage\", \"perc_over_limit\", \"utilization\"]],\n",
    "        three_dim_df[[\"block_height\",\"meter\", \"usage\", \"perc_over_limit\", \"utilization\"]],\n",
    "    ],\n",
    "    ignore_index=True,\n",
    ")\n",
    "util_melt_df.head()"
   ]
  },
  {
   "cell_type": "code",
   "execution_count": null,
   "metadata": {},
   "outputs": [],
   "source": [
    "((two_dim_df[\"usage\"]-one_dim_df[\"usage\"])/one_dim_df[\"usage\"]).agg([\"mean\", \"median\"])"
   ]
  },
  {
   "cell_type": "code",
   "execution_count": null,
   "metadata": {},
   "outputs": [],
   "source": [
    "((three_dim_df[\"usage\"]-two_dim_df[\"usage\"])/two_dim_df[\"usage\"]).agg([\"mean\", \"median\"])"
   ]
  },
  {
   "cell_type": "code",
   "execution_count": null,
   "metadata": {},
   "outputs": [],
   "source": [
    "plt.figure(figsize=(10, 3))\n",
    "sns.boxplot(data=util_melt_df, x=\"perc_over_limit\", y=\"meter\", hue=\"meter\",legend=False,)\n",
    "plt.axvline(x=0.5, color='grey', linestyle='--')\n",
    "plt.xlabel(\"Block resource utilization over block limit\")\n",
    "plt.ylabel(\"\")\n",
    "plt.title(\"Distribution of block utilization rate per metering model (blocks 22000020 to 22001999)\", pad=25)\n",
    "plt.tight_layout()\n",
    "plt.show()"
   ]
  },
  {
   "cell_type": "code",
   "execution_count": null,
   "metadata": {},
   "outputs": [],
   "source": [
    "plt.figure(figsize=(10, 3))\n",
    "sns.boxplot(data=util_melt_df, x=\"utilization\", y=\"meter\", hue=\"meter\",legend=False,)\n",
    "plt.xlabel(\"Block utilization rate (block gas as a rate of block target)\")\n",
    "plt.ylabel(\"\")\n",
    "plt.title(\"Block utilization per metering model (blocks 22000020 to 22001999)\", pad=25)\n",
    "plt.tight_layout()\n",
    "plt.show()"
   ]
  },
  {
   "cell_type": "code",
   "execution_count": null,
   "metadata": {},
   "outputs": [],
   "source": [
    "temp_df = util_melt_df.rename(columns={\"meter\": \"Metering model\"}).copy()\n",
    "temp_df[\"usage\"] = temp_df[\"usage\"] / 1_000_000\n",
    "temp_df[\"block_height\"] = temp_df[\"block_height\"] - 22000000\n",
    "\n",
    "plt.figure(figsize=(10, 4))\n",
    "ax = sns.histplot(\n",
    "    temp_df,\n",
    "    x=\"block_height\",\n",
    "    weights=\"usage\",\n",
    "    hue=\"Metering model\",\n",
    "    multiple=\"dodge\",\n",
    "    binwidth=20,\n",
    "    alpha=1.0\n",
    ")\n",
    "plt.title(\n",
    "    \"Block gas utilization per metering model (grouped by every 20 blocks)\",\n",
    "    pad=25,\n",
    ")\n",
    "plt.xlabel(\"Block height (starting at 22000000)\")\n",
    "plt.ylabel(\"Total gas units (Millions)\")\n",
    "plt.axhline(y=180*2, color='grey', linestyle='--', label='target block size')\n",
    "\n",
    "plt.tight_layout()\n",
    "plt.show()"
   ]
  }
 ],
 "metadata": {
  "kernelspec": {
   "display_name": ".venv",
   "language": "python",
   "name": "python3"
  },
  "language_info": {
   "codemirror_mode": {
    "name": "ipython",
    "version": 3
   },
   "file_extension": ".py",
   "mimetype": "text/x-python",
   "name": "python",
   "nbconvert_exporter": "python",
   "pygments_lexer": "ipython3",
   "version": "3.12.4"
  }
 },
 "nbformat": 4,
 "nbformat_minor": 2
}
