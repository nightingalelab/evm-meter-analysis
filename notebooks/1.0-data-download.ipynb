{
 "cells": [
  {
   "cell_type": "markdown",
   "metadata": {},
   "source": [
    "# Data Download - opcode usage by block\n",
    "\n",
    "#### Maria Silva and Shouqiao Wang\n",
    "\n",
    "#### March 2025\n",
    "\n",
    "## 1. Imports and directories"
   ]
  },
  {
   "cell_type": "code",
   "execution_count": null,
   "metadata": {},
   "outputs": [],
   "source": [
    "import os\n",
    "import sys\n",
    "import json\n",
    "import pandas as pd"
   ]
  },
  {
   "cell_type": "code",
   "execution_count": null,
   "metadata": {},
   "outputs": [],
   "source": [
    "# Main directories and files\n",
    "current_path = os.getcwd()\n",
    "repo_dir = os.path.abspath(os.path.join(current_path, \"..\"))\n",
    "data_dir = os.path.join(repo_dir, \"data\")\n",
    "src_dir = os.path.join(repo_dir, \"src\")"
   ]
  },
  {
   "cell_type": "code",
   "execution_count": null,
   "metadata": {},
   "outputs": [],
   "source": [
    "# import internal packages\n",
    "sys.path.append(src_dir)\n",
    "from data import get_opcode_gas_for_block"
   ]
  },
  {
   "cell_type": "markdown",
   "metadata": {},
   "source": [
    "## 2. Setup"
   ]
  },
  {
   "cell_type": "code",
   "execution_count": null,
   "metadata": {},
   "outputs": [],
   "source": [
    "# Secrets for acessing xatu clickhouse and erigon\n",
    "with open(os.path.join(repo_dir, \"secrets.json\"), \"r\") as file:\n",
    "    secrets_dict = json.load(file)\n",
    "\n",
    "# Block heights\n",
    "block_start = 22000000  # Mar-08-2025\n",
    "block_count = 6000 # ~1 day of ETH blocks"
   ]
  },
  {
   "cell_type": "markdown",
   "metadata": {},
   "source": [
    "## 3. Download and save data"
   ]
  },
  {
   "cell_type": "code",
   "execution_count": null,
   "metadata": {},
   "outputs": [],
   "source": [
    "df = pd.DataFrame()\n",
    "for block_height in range(block_start, block_start + block_count):\n",
    "    block_df = get_opcode_gas_for_block(\n",
    "        block_height,\n",
    "        secrets_dict[\"xatu_username\"],\n",
    "        secrets_dict[\"xatu_password\"],\n",
    "        secrets_dict[\"erigon_username\"],\n",
    "        secrets_dict[\"erigon_password\"],\n",
    "    )\n",
    "    df = pd.concat([df, block_df], ignore_index=True)\n",
    "    if block_height%1000==999: # save and reset\n",
    "      out_file = os.path.join(data_dir, f\"opcode_gas_usage_{block_height-999}_{block_height}.csv\")\n",
    "      df.to_csv(out_file, index=False)\n",
    "      df = pd.DataFrame()\n",
    "    elif block_height%50==0: # checkpoint\n",
    "      temp_file = os.path.join(data_dir, f\"opcode_gas_usage_temp.csv\")\n",
    "      df.to_csv(temp_file, index=False)\n",
    "\n",
    "# Save last loop, in case of block counts not divisible by 1000\n",
    "out_file = os.path.join(data_dir, f\"opcode_gas_usage_end.csv\")\n",
    "df.to_csv(out_file, index=False)"
   ]
  },
  {
   "cell_type": "code",
   "execution_count": null,
   "metadata": {},
   "outputs": [],
   "source": [
    "df.info()"
   ]
  }
 ],
 "metadata": {
  "kernelspec": {
   "display_name": "multi-dim-gas-analysis",
   "language": "python",
   "name": "python3"
  },
  "language_info": {
   "codemirror_mode": {
    "name": "ipython",
    "version": 3
   },
   "file_extension": ".py",
   "mimetype": "text/x-python",
   "name": "python",
   "nbconvert_exporter": "python",
   "pygments_lexer": "ipython3",
   "version": "3.12.9"
  }
 },
 "nbformat": 4,
 "nbformat_minor": 2
}
