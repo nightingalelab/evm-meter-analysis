{
 "cells": [
  {
   "cell_type": "markdown",
   "id": "d70873ce",
   "metadata": {},
   "source": [
    "# Simulation results\n",
    "## Full run for scenario 1 - Infinite demand for ETH transfers\n",
    "\n",
    "#### Maria Silva, May 2025\n",
    "\n",
    "## 1. Imports and settings\n",
    "\n",
    "Let's start by importing the necessary libraries and setting up some directories and files.\n"
   ]
  },
  {
   "cell_type": "code",
   "execution_count": 1,
   "id": "f9e842e5",
   "metadata": {},
   "outputs": [],
   "source": [
    "import os\n",
    "import pandas as pd\n",
    "import warnings\n",
    "\n",
    "warnings.filterwarnings(\"ignore\")"
   ]
  },
  {
   "cell_type": "code",
   "execution_count": 2,
   "id": "ddebe48b",
   "metadata": {},
   "outputs": [],
   "source": [
    "# Main directories and files\n",
    "current_path = os.getcwd()\n",
    "repo_dir = os.path.abspath(os.path.join(current_path, \"..\"))\n",
    "data_dir = os.path.join(repo_dir, \"data\")\n",
    "sim_dir = os.path.join(data_dir, \"sim\")"
   ]
  },
  {
   "cell_type": "markdown",
   "id": "931ce928",
   "metadata": {},
   "source": [
    "## 2. Load simulation results\n",
    "\n",
    "Now, we need to read the csv files that contain the results from the simulation results."
   ]
  },
  {
   "cell_type": "code",
   "execution_count": 3,
   "id": "ae228236",
   "metadata": {},
   "outputs": [
    {
     "name": "stdout",
     "output_type": "stream",
     "text": [
      "<class 'pandas.core.frame.DataFrame'>\n",
      "RangeIndex: 14 entries, 0 to 13\n",
      "Data columns (total 8 columns):\n",
      " #   Column               Non-Null Count  Dtype  \n",
      "---  ------               --------------  -----  \n",
      " 0   utilization          14 non-null     float64\n",
      " 1   gas_used             14 non-null     float64\n",
      " 2   one_dim_utilization  14 non-null     float64\n",
      " 3   throughput           14 non-null     int64  \n",
      " 4   mempool_size         14 non-null     float64\n",
      " 5   meter_scheme         14 non-null     object \n",
      " 6   limit                14 non-null     float64\n",
      " 7   gas_used_million     14 non-null     float64\n",
      "dtypes: float64(6), int64(1), object(1)\n",
      "memory usage: 1.0+ KB\n"
     ]
    }
   ],
   "source": [
    "file_name = \"eth_transfer_sim_results.csv\"\n",
    "df = pd.read_csv(os.path.join(sim_dir, file_name))\n",
    "df[\"gas_used_million\"] = df[\"gas_used\"]/1e6\n",
    "df.info(show_counts=True)"
   ]
  },
  {
   "cell_type": "markdown",
   "id": "9ab8e512",
   "metadata": {},
   "source": [
    "## 3. Results overview table\n",
    "\n",
    "Before seeing the results, we should recall that in this scenario we are only building one block, and we are not performing Monte Carlos simulations since the block building process is fully deterministic.\n",
    "\n",
    "In order to better interpret the results, here are the costs by resource of a single ETH transfer:\n",
    "\n",
    "```python\n",
    "{\n",
    "    \"Compute\": 8500.0,\n",
    "    \"History\": 6500.0,\n",
    "    \"Access\": 300.0,\n",
    "    \"Bandwidth\": 5700.0,\n",
    "}\n",
    "```\n",
    "\n",
    "### Limit = 36M gas units\n",
    "\n",
    "We can print some key metrics by metering scheme, assuming a limit of 36M gas units."
   ]
  },
  {
   "cell_type": "code",
   "execution_count": 4,
   "id": "a5949888",
   "metadata": {},
   "outputs": [
    {
     "data": {
      "application/vnd.microsoft.datawrangler.viewer.v0+json": {
       "columns": [
        {
         "name": "index",
         "rawType": "int64",
         "type": "integer"
        },
        {
         "name": "meter_scheme",
         "rawType": "object",
         "type": "string"
        },
        {
         "name": "throughput",
         "rawType": "int64",
         "type": "integer"
        },
        {
         "name": "utilization",
         "rawType": "float64",
         "type": "float"
        },
        {
         "name": "gas_used_million",
         "rawType": "float64",
         "type": "float"
        },
        {
         "name": "one_dim_utilization",
         "rawType": "float64",
         "type": "float"
        }
       ],
       "ref": "59e16ead-b693-41af-98fe-6a9a75c9c7c2",
       "rows": [
        [
         "0",
         "one_dim_scheme",
         "1714",
         "0.9998",
         "35.994",
         "0.9998"
        ],
        [
         "2",
         "compute_vs_others",
         "2880",
         "1.0",
         "60.48",
         "1.68"
        ],
        [
         "4",
         "state_vs_others",
         "1714",
         "0.9998",
         "35.994",
         "0.9998"
        ],
        [
         "6",
         "access_vs_others",
         "1739",
         "0.9999",
         "36.519",
         "1.0144"
        ],
        [
         "8",
         "bandwidth_vs_others",
         "2352",
         "0.9996",
         "49.392",
         "1.372"
        ],
        [
         "10",
         "state_vs_compute_vs_others",
         "2880",
         "1.0",
         "60.48",
         "1.68"
        ],
        [
         "12",
         "state_vs_compute_vs_access_vs_others",
         "2950",
         "0.9997",
         "61.95",
         "1.7208"
        ]
       ],
       "shape": {
        "columns": 5,
        "rows": 7
       }
      },
      "text/html": [
       "<div>\n",
       "<style scoped>\n",
       "    .dataframe tbody tr th:only-of-type {\n",
       "        vertical-align: middle;\n",
       "    }\n",
       "\n",
       "    .dataframe tbody tr th {\n",
       "        vertical-align: top;\n",
       "    }\n",
       "\n",
       "    .dataframe thead th {\n",
       "        text-align: right;\n",
       "    }\n",
       "</style>\n",
       "<table border=\"1\" class=\"dataframe\">\n",
       "  <thead>\n",
       "    <tr style=\"text-align: right;\">\n",
       "      <th></th>\n",
       "      <th>meter_scheme</th>\n",
       "      <th>throughput</th>\n",
       "      <th>utilization</th>\n",
       "      <th>gas_used_million</th>\n",
       "      <th>one_dim_utilization</th>\n",
       "    </tr>\n",
       "  </thead>\n",
       "  <tbody>\n",
       "    <tr>\n",
       "      <th>0</th>\n",
       "      <td>one_dim_scheme</td>\n",
       "      <td>1714</td>\n",
       "      <td>0.9998</td>\n",
       "      <td>35.994</td>\n",
       "      <td>0.9998</td>\n",
       "    </tr>\n",
       "    <tr>\n",
       "      <th>2</th>\n",
       "      <td>compute_vs_others</td>\n",
       "      <td>2880</td>\n",
       "      <td>1.0000</td>\n",
       "      <td>60.480</td>\n",
       "      <td>1.6800</td>\n",
       "    </tr>\n",
       "    <tr>\n",
       "      <th>4</th>\n",
       "      <td>state_vs_others</td>\n",
       "      <td>1714</td>\n",
       "      <td>0.9998</td>\n",
       "      <td>35.994</td>\n",
       "      <td>0.9998</td>\n",
       "    </tr>\n",
       "    <tr>\n",
       "      <th>6</th>\n",
       "      <td>access_vs_others</td>\n",
       "      <td>1739</td>\n",
       "      <td>0.9999</td>\n",
       "      <td>36.519</td>\n",
       "      <td>1.0144</td>\n",
       "    </tr>\n",
       "    <tr>\n",
       "      <th>8</th>\n",
       "      <td>bandwidth_vs_others</td>\n",
       "      <td>2352</td>\n",
       "      <td>0.9996</td>\n",
       "      <td>49.392</td>\n",
       "      <td>1.3720</td>\n",
       "    </tr>\n",
       "    <tr>\n",
       "      <th>10</th>\n",
       "      <td>state_vs_compute_vs_others</td>\n",
       "      <td>2880</td>\n",
       "      <td>1.0000</td>\n",
       "      <td>60.480</td>\n",
       "      <td>1.6800</td>\n",
       "    </tr>\n",
       "    <tr>\n",
       "      <th>12</th>\n",
       "      <td>state_vs_compute_vs_access_vs_others</td>\n",
       "      <td>2950</td>\n",
       "      <td>0.9997</td>\n",
       "      <td>61.950</td>\n",
       "      <td>1.7208</td>\n",
       "    </tr>\n",
       "  </tbody>\n",
       "</table>\n",
       "</div>"
      ],
      "text/plain": [
       "                            meter_scheme  throughput  utilization  \\\n",
       "0                         one_dim_scheme        1714       0.9998   \n",
       "2                      compute_vs_others        2880       1.0000   \n",
       "4                        state_vs_others        1714       0.9998   \n",
       "6                       access_vs_others        1739       0.9999   \n",
       "8                    bandwidth_vs_others        2352       0.9996   \n",
       "10            state_vs_compute_vs_others        2880       1.0000   \n",
       "12  state_vs_compute_vs_access_vs_others        2950       0.9997   \n",
       "\n",
       "    gas_used_million  one_dim_utilization  \n",
       "0             35.994               0.9998  \n",
       "2             60.480               1.6800  \n",
       "4             35.994               0.9998  \n",
       "6             36.519               1.0144  \n",
       "8             49.392               1.3720  \n",
       "10            60.480               1.6800  \n",
       "12            61.950               1.7208  "
      ]
     },
     "execution_count": 4,
     "metadata": {},
     "output_type": "execute_result"
    }
   ],
   "source": [
    "df[df[\"limit\"] == 36000000][\n",
    "    [\n",
    "        \"meter_scheme\",\n",
    "        \"throughput\",\n",
    "        \"utilization\",\n",
    "        \"gas_used_million\",\n",
    "        \"one_dim_utilization\",\n",
    "    ]\n",
    "].round(4)"
   ]
  },
  {
   "cell_type": "markdown",
   "id": "1aa0dfc1",
   "metadata": {},
   "source": [
    "How do these metric compare with the current scheme (i.e. the one dimensional)?"
   ]
  },
  {
   "cell_type": "code",
   "execution_count": 5,
   "id": "e43cf1ef",
   "metadata": {},
   "outputs": [
    {
     "data": {
      "application/vnd.microsoft.datawrangler.viewer.v0+json": {
       "columns": [
        {
         "name": "index",
         "rawType": "int64",
         "type": "integer"
        },
        {
         "name": "meter_scheme",
         "rawType": "object",
         "type": "string"
        },
        {
         "name": "throughput",
         "rawType": "float64",
         "type": "float"
        },
        {
         "name": "gas_used_million",
         "rawType": "float64",
         "type": "float"
        }
       ],
       "ref": "dafae86c-5fcf-4d9f-be57-4b11d54ee985",
       "rows": [
        [
         "0",
         "one_dim_scheme",
         "0.0",
         "0.0"
        ],
        [
         "2",
         "compute_vs_others",
         "0.6803",
         "0.6803"
        ],
        [
         "4",
         "state_vs_others",
         "0.0",
         "0.0"
        ],
        [
         "6",
         "access_vs_others",
         "0.0146",
         "0.0146"
        ],
        [
         "8",
         "bandwidth_vs_others",
         "0.3722",
         "0.3722"
        ],
        [
         "10",
         "state_vs_compute_vs_others",
         "0.6803",
         "0.6803"
        ],
        [
         "12",
         "state_vs_compute_vs_access_vs_others",
         "0.7211",
         "0.7211"
        ]
       ],
       "shape": {
        "columns": 3,
        "rows": 7
       }
      },
      "text/html": [
       "<div>\n",
       "<style scoped>\n",
       "    .dataframe tbody tr th:only-of-type {\n",
       "        vertical-align: middle;\n",
       "    }\n",
       "\n",
       "    .dataframe tbody tr th {\n",
       "        vertical-align: top;\n",
       "    }\n",
       "\n",
       "    .dataframe thead th {\n",
       "        text-align: right;\n",
       "    }\n",
       "</style>\n",
       "<table border=\"1\" class=\"dataframe\">\n",
       "  <thead>\n",
       "    <tr style=\"text-align: right;\">\n",
       "      <th></th>\n",
       "      <th>meter_scheme</th>\n",
       "      <th>throughput</th>\n",
       "      <th>gas_used_million</th>\n",
       "    </tr>\n",
       "  </thead>\n",
       "  <tbody>\n",
       "    <tr>\n",
       "      <th>0</th>\n",
       "      <td>one_dim_scheme</td>\n",
       "      <td>0.0000</td>\n",
       "      <td>0.0000</td>\n",
       "    </tr>\n",
       "    <tr>\n",
       "      <th>2</th>\n",
       "      <td>compute_vs_others</td>\n",
       "      <td>0.6803</td>\n",
       "      <td>0.6803</td>\n",
       "    </tr>\n",
       "    <tr>\n",
       "      <th>4</th>\n",
       "      <td>state_vs_others</td>\n",
       "      <td>0.0000</td>\n",
       "      <td>0.0000</td>\n",
       "    </tr>\n",
       "    <tr>\n",
       "      <th>6</th>\n",
       "      <td>access_vs_others</td>\n",
       "      <td>0.0146</td>\n",
       "      <td>0.0146</td>\n",
       "    </tr>\n",
       "    <tr>\n",
       "      <th>8</th>\n",
       "      <td>bandwidth_vs_others</td>\n",
       "      <td>0.3722</td>\n",
       "      <td>0.3722</td>\n",
       "    </tr>\n",
       "    <tr>\n",
       "      <th>10</th>\n",
       "      <td>state_vs_compute_vs_others</td>\n",
       "      <td>0.6803</td>\n",
       "      <td>0.6803</td>\n",
       "    </tr>\n",
       "    <tr>\n",
       "      <th>12</th>\n",
       "      <td>state_vs_compute_vs_access_vs_others</td>\n",
       "      <td>0.7211</td>\n",
       "      <td>0.7211</td>\n",
       "    </tr>\n",
       "  </tbody>\n",
       "</table>\n",
       "</div>"
      ],
      "text/plain": [
       "                            meter_scheme  throughput  gas_used_million\n",
       "0                         one_dim_scheme      0.0000            0.0000\n",
       "2                      compute_vs_others      0.6803            0.6803\n",
       "4                        state_vs_others      0.0000            0.0000\n",
       "6                       access_vs_others      0.0146            0.0146\n",
       "8                    bandwidth_vs_others      0.3722            0.3722\n",
       "10            state_vs_compute_vs_others      0.6803            0.6803\n",
       "12  state_vs_compute_vs_access_vs_others      0.7211            0.7211"
      ]
     },
     "execution_count": 5,
     "metadata": {},
     "output_type": "execute_result"
    }
   ],
   "source": [
    "temp = df[df[\"limit\"] == 36000000]\n",
    "cols = [\"throughput\", \"gas_used_million\"]\n",
    "temp[cols] = temp[cols].div(temp[cols].iloc[0], axis=\"columns\") - 1\n",
    "temp[[\"meter_scheme\"]+cols].round(4)"
   ]
  },
  {
   "cell_type": "markdown",
   "id": "44ddbef4",
   "metadata": {},
   "source": [
    "### Limit = 18M gas units\n",
    "\n",
    "Now, we can do the same for the 18M gas units limit."
   ]
  },
  {
   "cell_type": "code",
   "execution_count": 6,
   "id": "0dae7d26",
   "metadata": {},
   "outputs": [
    {
     "data": {
      "application/vnd.microsoft.datawrangler.viewer.v0+json": {
       "columns": [
        {
         "name": "index",
         "rawType": "int64",
         "type": "integer"
        },
        {
         "name": "meter_scheme",
         "rawType": "object",
         "type": "string"
        },
        {
         "name": "throughput",
         "rawType": "int64",
         "type": "integer"
        },
        {
         "name": "utilization",
         "rawType": "float64",
         "type": "float"
        },
        {
         "name": "gas_used_million",
         "rawType": "float64",
         "type": "float"
        },
        {
         "name": "one_dim_utilization",
         "rawType": "float64",
         "type": "float"
        }
       ],
       "ref": "144d7122-678d-4abd-bb0f-ba7fe40bc25b",
       "rows": [
        [
         "1",
         "one_dim_scheme",
         "857",
         "0.9998",
         "17.997",
         "0.9998"
        ],
        [
         "3",
         "compute_vs_others",
         "1440",
         "1.0",
         "30.24",
         "1.68"
        ],
        [
         "5",
         "state_vs_others",
         "857",
         "0.9998",
         "17.997",
         "0.9998"
        ],
        [
         "7",
         "access_vs_others",
         "869",
         "0.9994",
         "18.249",
         "1.0138"
        ],
        [
         "9",
         "bandwidth_vs_others",
         "1176",
         "0.9996",
         "24.696",
         "1.372"
        ],
        [
         "11",
         "state_vs_compute_vs_others",
         "1440",
         "1.0",
         "30.24",
         "1.68"
        ],
        [
         "13",
         "state_vs_compute_vs_access_vs_others",
         "1475",
         "0.9997",
         "30.975",
         "1.7208"
        ]
       ],
       "shape": {
        "columns": 5,
        "rows": 7
       }
      },
      "text/html": [
       "<div>\n",
       "<style scoped>\n",
       "    .dataframe tbody tr th:only-of-type {\n",
       "        vertical-align: middle;\n",
       "    }\n",
       "\n",
       "    .dataframe tbody tr th {\n",
       "        vertical-align: top;\n",
       "    }\n",
       "\n",
       "    .dataframe thead th {\n",
       "        text-align: right;\n",
       "    }\n",
       "</style>\n",
       "<table border=\"1\" class=\"dataframe\">\n",
       "  <thead>\n",
       "    <tr style=\"text-align: right;\">\n",
       "      <th></th>\n",
       "      <th>meter_scheme</th>\n",
       "      <th>throughput</th>\n",
       "      <th>utilization</th>\n",
       "      <th>gas_used_million</th>\n",
       "      <th>one_dim_utilization</th>\n",
       "    </tr>\n",
       "  </thead>\n",
       "  <tbody>\n",
       "    <tr>\n",
       "      <th>1</th>\n",
       "      <td>one_dim_scheme</td>\n",
       "      <td>857</td>\n",
       "      <td>0.9998</td>\n",
       "      <td>17.997</td>\n",
       "      <td>0.9998</td>\n",
       "    </tr>\n",
       "    <tr>\n",
       "      <th>3</th>\n",
       "      <td>compute_vs_others</td>\n",
       "      <td>1440</td>\n",
       "      <td>1.0000</td>\n",
       "      <td>30.240</td>\n",
       "      <td>1.6800</td>\n",
       "    </tr>\n",
       "    <tr>\n",
       "      <th>5</th>\n",
       "      <td>state_vs_others</td>\n",
       "      <td>857</td>\n",
       "      <td>0.9998</td>\n",
       "      <td>17.997</td>\n",
       "      <td>0.9998</td>\n",
       "    </tr>\n",
       "    <tr>\n",
       "      <th>7</th>\n",
       "      <td>access_vs_others</td>\n",
       "      <td>869</td>\n",
       "      <td>0.9994</td>\n",
       "      <td>18.249</td>\n",
       "      <td>1.0138</td>\n",
       "    </tr>\n",
       "    <tr>\n",
       "      <th>9</th>\n",
       "      <td>bandwidth_vs_others</td>\n",
       "      <td>1176</td>\n",
       "      <td>0.9996</td>\n",
       "      <td>24.696</td>\n",
       "      <td>1.3720</td>\n",
       "    </tr>\n",
       "    <tr>\n",
       "      <th>11</th>\n",
       "      <td>state_vs_compute_vs_others</td>\n",
       "      <td>1440</td>\n",
       "      <td>1.0000</td>\n",
       "      <td>30.240</td>\n",
       "      <td>1.6800</td>\n",
       "    </tr>\n",
       "    <tr>\n",
       "      <th>13</th>\n",
       "      <td>state_vs_compute_vs_access_vs_others</td>\n",
       "      <td>1475</td>\n",
       "      <td>0.9997</td>\n",
       "      <td>30.975</td>\n",
       "      <td>1.7208</td>\n",
       "    </tr>\n",
       "  </tbody>\n",
       "</table>\n",
       "</div>"
      ],
      "text/plain": [
       "                            meter_scheme  throughput  utilization  \\\n",
       "1                         one_dim_scheme         857       0.9998   \n",
       "3                      compute_vs_others        1440       1.0000   \n",
       "5                        state_vs_others         857       0.9998   \n",
       "7                       access_vs_others         869       0.9994   \n",
       "9                    bandwidth_vs_others        1176       0.9996   \n",
       "11            state_vs_compute_vs_others        1440       1.0000   \n",
       "13  state_vs_compute_vs_access_vs_others        1475       0.9997   \n",
       "\n",
       "    gas_used_million  one_dim_utilization  \n",
       "1             17.997               0.9998  \n",
       "3             30.240               1.6800  \n",
       "5             17.997               0.9998  \n",
       "7             18.249               1.0138  \n",
       "9             24.696               1.3720  \n",
       "11            30.240               1.6800  \n",
       "13            30.975               1.7208  "
      ]
     },
     "execution_count": 6,
     "metadata": {},
     "output_type": "execute_result"
    }
   ],
   "source": [
    "df[df[\"limit\"] == 18000000][\n",
    "    [\n",
    "        \"meter_scheme\",\n",
    "        \"throughput\",\n",
    "        \"utilization\",\n",
    "        \"gas_used_million\",\n",
    "        \"one_dim_utilization\",\n",
    "    ]\n",
    "].round(4)"
   ]
  },
  {
   "cell_type": "code",
   "execution_count": 7,
   "id": "bcb0a0de",
   "metadata": {},
   "outputs": [
    {
     "data": {
      "application/vnd.microsoft.datawrangler.viewer.v0+json": {
       "columns": [
        {
         "name": "index",
         "rawType": "int64",
         "type": "integer"
        },
        {
         "name": "meter_scheme",
         "rawType": "object",
         "type": "string"
        },
        {
         "name": "throughput",
         "rawType": "float64",
         "type": "float"
        },
        {
         "name": "gas_used_million",
         "rawType": "float64",
         "type": "float"
        }
       ],
       "ref": "cd146962-740d-4033-9101-3428835d4280",
       "rows": [
        [
         "1",
         "one_dim_scheme",
         "0.0",
         "0.0"
        ],
        [
         "3",
         "compute_vs_others",
         "0.6803",
         "0.6803"
        ],
        [
         "5",
         "state_vs_others",
         "0.0",
         "0.0"
        ],
        [
         "7",
         "access_vs_others",
         "0.014",
         "0.014"
        ],
        [
         "9",
         "bandwidth_vs_others",
         "0.3722",
         "0.3722"
        ],
        [
         "11",
         "state_vs_compute_vs_others",
         "0.6803",
         "0.6803"
        ],
        [
         "13",
         "state_vs_compute_vs_access_vs_others",
         "0.7211",
         "0.7211"
        ]
       ],
       "shape": {
        "columns": 3,
        "rows": 7
       }
      },
      "text/html": [
       "<div>\n",
       "<style scoped>\n",
       "    .dataframe tbody tr th:only-of-type {\n",
       "        vertical-align: middle;\n",
       "    }\n",
       "\n",
       "    .dataframe tbody tr th {\n",
       "        vertical-align: top;\n",
       "    }\n",
       "\n",
       "    .dataframe thead th {\n",
       "        text-align: right;\n",
       "    }\n",
       "</style>\n",
       "<table border=\"1\" class=\"dataframe\">\n",
       "  <thead>\n",
       "    <tr style=\"text-align: right;\">\n",
       "      <th></th>\n",
       "      <th>meter_scheme</th>\n",
       "      <th>throughput</th>\n",
       "      <th>gas_used_million</th>\n",
       "    </tr>\n",
       "  </thead>\n",
       "  <tbody>\n",
       "    <tr>\n",
       "      <th>1</th>\n",
       "      <td>one_dim_scheme</td>\n",
       "      <td>0.0000</td>\n",
       "      <td>0.0000</td>\n",
       "    </tr>\n",
       "    <tr>\n",
       "      <th>3</th>\n",
       "      <td>compute_vs_others</td>\n",
       "      <td>0.6803</td>\n",
       "      <td>0.6803</td>\n",
       "    </tr>\n",
       "    <tr>\n",
       "      <th>5</th>\n",
       "      <td>state_vs_others</td>\n",
       "      <td>0.0000</td>\n",
       "      <td>0.0000</td>\n",
       "    </tr>\n",
       "    <tr>\n",
       "      <th>7</th>\n",
       "      <td>access_vs_others</td>\n",
       "      <td>0.0140</td>\n",
       "      <td>0.0140</td>\n",
       "    </tr>\n",
       "    <tr>\n",
       "      <th>9</th>\n",
       "      <td>bandwidth_vs_others</td>\n",
       "      <td>0.3722</td>\n",
       "      <td>0.3722</td>\n",
       "    </tr>\n",
       "    <tr>\n",
       "      <th>11</th>\n",
       "      <td>state_vs_compute_vs_others</td>\n",
       "      <td>0.6803</td>\n",
       "      <td>0.6803</td>\n",
       "    </tr>\n",
       "    <tr>\n",
       "      <th>13</th>\n",
       "      <td>state_vs_compute_vs_access_vs_others</td>\n",
       "      <td>0.7211</td>\n",
       "      <td>0.7211</td>\n",
       "    </tr>\n",
       "  </tbody>\n",
       "</table>\n",
       "</div>"
      ],
      "text/plain": [
       "                            meter_scheme  throughput  gas_used_million\n",
       "1                         one_dim_scheme      0.0000            0.0000\n",
       "3                      compute_vs_others      0.6803            0.6803\n",
       "5                        state_vs_others      0.0000            0.0000\n",
       "7                       access_vs_others      0.0140            0.0140\n",
       "9                    bandwidth_vs_others      0.3722            0.3722\n",
       "11            state_vs_compute_vs_others      0.6803            0.6803\n",
       "13  state_vs_compute_vs_access_vs_others      0.7211            0.7211"
      ]
     },
     "execution_count": 7,
     "metadata": {},
     "output_type": "execute_result"
    }
   ],
   "source": [
    "temp = df[df[\"limit\"] == 18000000]\n",
    "cols = [\"throughput\", \"gas_used_million\"]\n",
    "temp[cols] = temp[cols].div(temp[cols].iloc[0], axis=\"columns\") - 1\n",
    "temp[[\"meter_scheme\"]+cols].round(4)"
   ]
  }
 ],
 "metadata": {
  "kernelspec": {
   "display_name": ".venv",
   "language": "python",
   "name": "python3"
  },
  "language_info": {
   "codemirror_mode": {
    "name": "ipython",
    "version": 3
   },
   "file_extension": ".py",
   "mimetype": "text/x-python",
   "name": "python",
   "nbconvert_exporter": "python",
   "pygments_lexer": "ipython3",
   "version": "3.12.4"
  }
 },
 "nbformat": 4,
 "nbformat_minor": 5
}
