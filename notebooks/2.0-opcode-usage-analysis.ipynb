{
 "cells": [
  {
   "cell_type": "markdown",
   "metadata": {},
   "source": [
    "# Opcode usage - exploratory analysis\n",
    "\n",
    "#### Maria Silva, March 2025\n",
    "\n",
    "## 1. Imports and settings\n",
    "\n",
    "Let's start by importing the necessary libraries and setting up some directories and files.\n"
   ]
  },
  {
   "cell_type": "code",
   "execution_count": 2,
   "metadata": {},
   "outputs": [],
   "source": [
    "import os\n",
    "import duckdb\n",
    "import pandas as pd\n",
    "import numpy as np\n",
    "import matplotlib.pyplot as plt\n",
    "import seaborn as sns"
   ]
  },
  {
   "cell_type": "code",
   "execution_count": 3,
   "metadata": {},
   "outputs": [],
   "source": [
    "# Main directories and files\n",
    "current_path = os.getcwd()\n",
    "repo_dir = os.path.abspath(os.path.join(current_path, \"..\"))\n",
    "data_dir = os.path.join(repo_dir, \"data\")\n",
    "op_files_dir = os.path.join(data_dir, \"aggregated_opcodes\", \"*\", \"file.parquet\")"
   ]
  },
  {
   "cell_type": "markdown",
   "metadata": {},
   "source": [
    "## 2. Load data\n",
    "\n",
    "Now, let's load the data. We will start by loading the opcodes used for blocks 22000000 to 22001999."
   ]
  },
  {
   "cell_type": "code",
   "execution_count": 4,
   "metadata": {},
   "outputs": [
    {
     "name": "stdout",
     "output_type": "stream",
     "text": [
      "<class 'pandas.core.frame.DataFrame'>\n",
      "RangeIndex: 13518258 entries, 0 to 13518257\n",
      "Data columns (total 5 columns):\n",
      " #   Column             Dtype \n",
      "---  ------             ----- \n",
      " 0   block_height       int64 \n",
      " 1   tx_hash            object\n",
      " 2   op                 object\n",
      " 3   op_gas_cost        int64 \n",
      " 4   op_gas_pair_count  int64 \n",
      "dtypes: int64(3), object(2)\n",
      "memory usage: 515.7+ MB\n"
     ]
    }
   ],
   "source": [
    "# Load parquet files with duckdb\n",
    "query = f\"\"\"\n",
    "SELECT block_height, tx_hash, op, gasCost_v2 AS op_gas_cost, op_count AS op_gas_pair_count\n",
    "FROM read_parquet(\n",
    "    '{op_files_dir}', \n",
    "    hive_partitioning=True, \n",
    "    filename=True,\n",
    "    file_row_number=True,\n",
    "    union_by_name=True\n",
    "    )\n",
    "WHERE block_height BETWEEN 22000000 AND 22001999;\n",
    "\"\"\"\n",
    "raw_usage_df = duckdb.connect().execute(query).fetchdf()\n",
    "# Print info\n",
    "raw_usage_df.info()"
   ]
  },
  {
   "cell_type": "code",
   "execution_count": 5,
   "metadata": {},
   "outputs": [
    {
     "data": {
      "text/plain": [
       "min    22000020\n",
       "max    22001999\n",
       "Name: block_height, dtype: int64"
      ]
     },
     "execution_count": 5,
     "metadata": {},
     "output_type": "execute_result"
    }
   ],
   "source": [
    "raw_usage_df[\"block_height\"].agg([\"min\", \"max\"])"
   ]
  },
  {
   "cell_type": "markdown",
   "metadata": {},
   "source": [
    "Now, we can load the gas used per transaction."
   ]
  },
  {
   "cell_type": "code",
   "execution_count": 6,
   "metadata": {},
   "outputs": [
    {
     "name": "stdout",
     "output_type": "stream",
     "text": [
      "<class 'pandas.core.frame.DataFrame'>\n",
      "RangeIndex: 937679 entries, 0 to 937678\n",
      "Data columns (total 4 columns):\n",
      " #   Column                  Non-Null Count   Dtype \n",
      "---  ------                  --------------   ----- \n",
      " 0   tx_hash                 937679 non-null  object\n",
      " 1   tx_gas_cost             937679 non-null  int64 \n",
      " 2   tx_input_data_gas_cost  937679 non-null  int64 \n",
      " 3   is_contract_creation    937679 non-null  int64 \n",
      "dtypes: int64(3), object(1)\n",
      "memory usage: 28.6+ MB\n"
     ]
    }
   ],
   "source": [
    "# Load parquet file\n",
    "tx_gas_usage_df = pd.read_parquet(\n",
    "    os.path.join(data_dir, \"tx_gas_usage_22000000_22006000.parquet\")\n",
    ")\n",
    "# Clean up columns\n",
    "tx_gas_usage_df = tx_gas_usage_df.drop(columns=[\"block_height\"])\n",
    "tx_gas_usage_df.columns = [\n",
    "    \"tx_hash\",\n",
    "    \"tx_gas_cost\",\n",
    "    \"tx_input_data_gas_cost\",\n",
    "    \"is_contract_creation\",\n",
    "]\n",
    "# Print info\n",
    "tx_gas_usage_df.info()"
   ]
  },
  {
   "cell_type": "markdown",
   "metadata": {},
   "source": [
    "## 3. Process data"
   ]
  },
  {
   "cell_type": "code",
   "execution_count": 7,
   "metadata": {},
   "outputs": [
    {
     "name": "stdout",
     "output_type": "stream",
     "text": [
      "<class 'pandas.core.frame.DataFrame'>\n",
      "RangeIndex: 13518258 entries, 0 to 13518257\n",
      "Data columns (total 9 columns):\n",
      " #   Column                  Dtype  \n",
      "---  ------                  -----  \n",
      " 0   block_height            int64  \n",
      " 1   tx_hash                 object \n",
      " 2   op                      object \n",
      " 3   op_gas_cost             float64\n",
      " 4   op_gas_pair_count       int64  \n",
      " 5   tx_gas_cost             int64  \n",
      " 6   tx_input_data_gas_cost  int64  \n",
      " 7   is_contract_creation    int64  \n",
      " 8   op_total_gas_cost       float64\n",
      "dtypes: float64(2), int64(5), object(2)\n",
      "memory usage: 928.2+ MB\n"
     ]
    }
   ],
   "source": [
    "# Add total transaction gas\n",
    "usage_df = raw_usage_df.merge(tx_gas_usage_df, on=\"tx_hash\", how=\"left\")\n",
    "# Fix op_gas_cost for transactions with no opcodes\n",
    "usage_df[\"op_gas_cost\"] = np.where(\n",
    "    (usage_df[\"op\"].isin([\"NO_TRACE\", \"RESPONSE_TOO_LARGE\"])) & (usage_df[\"is_contract_creation\"]==0),\n",
    "    usage_df[\"tx_gas_cost\"] - usage_df[\"tx_input_data_gas_cost\"] - 21000.0,\n",
    "    usage_df[\"op_gas_cost\"],\n",
    ")\n",
    "usage_df[\"op_gas_cost\"] = np.where(\n",
    "    (usage_df[\"op\"].isin([\"NO_TRACE\", \"RESPONSE_TOO_LARGE\"])) & (usage_df[\"is_contract_creation\"]==1),\n",
    "    usage_df[\"tx_gas_cost\"] - usage_df[\"tx_input_data_gas_cost\"] - 53000.0,\n",
    "    usage_df[\"op_gas_cost\"],\n",
    ")\n",
    "# Clean up repeated opcodes\n",
    "usage_df[\"op\"] = np.where(usage_df[\"op\"].str.startswith(\"DUP\"), \"DUP\", usage_df[\"op\"])\n",
    "usage_df[\"op\"] = np.where(usage_df[\"op\"].str.startswith(\"SWAP\"), \"SWAP\", usage_df[\"op\"])\n",
    "usage_df[\"op\"] = np.where(\n",
    "    (usage_df[\"op\"].str.startswith(\"PUSH\")) & (usage_df[\"op\"] != \"PUSH0\"),\n",
    "    \"PUSH\",\n",
    "    usage_df[\"op\"],\n",
    ")\n",
    "# Compute total gas cost for opcode\n",
    "usage_df[\"op_total_gas_cost\"] = usage_df[\"op_gas_cost\"] * usage_df[\"op_gas_pair_count\"]\n",
    "# Print info\n",
    "usage_df.info()"
   ]
  },
  {
   "cell_type": "markdown",
   "metadata": {},
   "source": [
    "## 4. Opcode usage overview\n",
    "\n",
    "### Opcode usage counts"
   ]
  },
  {
   "cell_type": "code",
   "execution_count": 60,
   "metadata": {},
   "outputs": [
    {
     "data": {
      "image/png": "[encoded data removed]",
      "text/plain": [
       "<Figure size 1600x300 with 1 Axes>"
      ]
     },
     "metadata": {},
     "output_type": "display_data"
    }
   ],
   "source": [
    "temp_df = (\n",
    "    usage_df[~usage_df[\"op\"].isin([\"NO_TRACE\", \"RESPONSE_TOO_LARGE\"])]\n",
    "    .groupby(\"op\")[\"op_gas_pair_count\"]\n",
    "    .sum()\n",
    "    .reset_index()\n",
    ")\n",
    "temp_df[\"op_gas_pair_count\"] = temp_df[\"op_gas_pair_count\"] / 1_000_000\n",
    "plt.figure(figsize=(16, 3))\n",
    "plt.grid()\n",
    "sns.barplot(x=\"op\", y=\"op_gas_pair_count\", data=temp_df)\n",
    "plt.xticks(rotation=90)\n",
    "plt.title(\"Opcode usage for blocks 22000020 to 22001999\")\n",
    "plt.ylabel(\"Number of times opcode was used\\n(Millions)\")\n",
    "plt.xlabel(\"\")\n",
    "plt.show()"
   ]
  },
  {
   "cell_type": "code",
   "execution_count": null,
   "metadata": {},
   "outputs": [],
   "source": [
    "temp_df = (\n",
    "    usage_df[~usage_df[\"op\"].isin([\"NO_TRACE\", \"RESPONSE_TOO_LARGE\"])]\n",
    "    .groupby(\"op\")[\"op_gas_pair_count\"]\n",
    "    .sum()\n",
    "    .reset_index()\n",
    ")\n",
    "temp_df[\"op_gas_pair_count\"] = temp_df[\"op_gas_pair_count\"]\n",
    "plt.figure(figsize=(16, 3))\n",
    "plt.grid()\n",
    "sns.barplot(x=\"op\", y=\"op_gas_pair_count\", data=temp_df)\n",
    "plt.xticks(rotation=90)\n",
    "plt.yscale(\"log\")\n",
    "plt.title(\"Opcode usage for blocks 22000020 to 22001999\")\n",
    "plt.ylabel(\"Number of times opcode was used\\n(log scale)\")\n",
    "plt.xlabel(\"\")\n",
    "plt.show()"
   ]
  },
  {
   "cell_type": "markdown",
   "metadata": {},
   "source": [
    "### Opcode gas usage"
   ]
  },
  {
   "cell_type": "code",
   "execution_count": null,
   "metadata": {},
   "outputs": [],
   "source": [
    "temp_df = (\n",
    "    usage_df[~usage_df[\"op\"].isin([\"NO_TRACE\", \"RESPONSE_TOO_LARGE\"])]\n",
    "    .groupby(\"op\")[\"op_total_gas_cost\"]\n",
    "    .sum()\n",
    "    .reset_index()\n",
    ")\n",
    "temp_df[\"op_total_gas_cost\"] = temp_df[\"op_total_gas_cost\"] / 1_000_000_000\n",
    "plt.figure(figsize=(16, 3))\n",
    "plt.grid()\n",
    "sns.barplot(x=\"op\", y=\"op_total_gas_cost\", data=temp_df)\n",
    "plt.xticks(rotation=90)\n",
    "plt.title(\"Opcode usage for blocks 22000020 to 22001999\")\n",
    "plt.ylabel(\"Total units of gas used for opcode\\n(Billions)\")\n",
    "plt.xlabel(\"\")\n",
    "plt.show()"
   ]
  },
  {
   "cell_type": "code",
   "execution_count": null,
   "metadata": {},
   "outputs": [],
   "source": [
    "temp_df = (\n",
    "    usage_df[~usage_df[\"op\"].isin([\"NO_TRACE\", \"RESPONSE_TOO_LARGE\"])]\n",
    "    .groupby(\"op\")[\"op_total_gas_cost\"]\n",
    "    .sum()\n",
    "    .reset_index()\n",
    ")\n",
    "temp_df[\"op_total_gas_cost\"] = temp_df[\"op_total_gas_cost\"]\n",
    "plt.figure(figsize=(16, 3))\n",
    "plt.grid()\n",
    "sns.barplot(x=\"op\", y=\"op_total_gas_cost\", data=temp_df)\n",
    "plt.xticks(rotation=90)\n",
    "plt.yscale(\"log\")\n",
    "plt.title(\"Opcode usage for blocks 22000020 to 22001999\")\n",
    "plt.ylabel(\"Total units of gas used for opcode\\n(log scale)\")\n",
    "plt.xlabel(\"\")\n",
    "plt.show()"
   ]
  },
  {
   "cell_type": "markdown",
   "metadata": {},
   "source": [
    "### Opcode usage correlation"
   ]
  },
  {
   "cell_type": "code",
   "execution_count": null,
   "metadata": {},
   "outputs": [],
   "source": [
    "temp_df = pd.pivot_table(\n",
    "    usage_df[~usage_df[\"op\"].isin([\"NO_TRACE\", \"RESPONSE_TOO_LARGE\"])],\n",
    "    values=\"op_gas_pair_count\",\n",
    "    index=\"tx_hash\",\n",
    "    columns=\"op\",\n",
    "    aggfunc=\"sum\",\n",
    "    fill_value=0.0,\n",
    ")\n",
    "corr_mat = temp_df.corr()\n",
    "plt.figure(figsize=(8, 6))\n",
    "ax = sns.heatmap(corr_mat, cmap=\"YlGnBu\", linewidths=0.5)\n",
    "plt.title(\"Opcode correlation - usage count\")\n",
    "ax.tick_params(axis=\"x\", labelsize=7)\n",
    "ax.tick_params(axis=\"y\", labelsize=7)\n",
    "plt.tight_layout()\n",
    "plt.show()"
   ]
  },
  {
   "cell_type": "code",
   "execution_count": null,
   "metadata": {},
   "outputs": [],
   "source": [
    "temp_df = pd.pivot_table(\n",
    "    usage_df[~usage_df[\"op\"].isin([\"NO_TRACE\", \"RESPONSE_TOO_LARGE\"])],\n",
    "    values=\"op_total_gas_cost\",\n",
    "    index=\"tx_hash\",\n",
    "    columns=\"op\",\n",
    "    aggfunc=\"sum\",\n",
    "    fill_value=0.0,\n",
    ")\n",
    "corr_mat = temp_df.corr()\n",
    "plt.figure(figsize=(8, 6))\n",
    "ax = sns.heatmap(corr_mat, cmap=\"YlGnBu\", linewidths=0.5)\n",
    "plt.title(\"Opcode correlation - gas used\")\n",
    "ax.tick_params(axis=\"x\", labelsize=7)\n",
    "ax.tick_params(axis=\"y\", labelsize=7)\n",
    "plt.show()"
   ]
  },
  {
   "cell_type": "markdown",
   "metadata": {},
   "source": [
    "## 5. Opcode gas usage vs transaction gas usage\n",
    "\n",
    "Next, we will compare the total gas cost of the transaction with the cost of all opcodes used in the transaction. There are four main components to consider:\n",
    "\n",
    "1. The intrinsic cost of the transaction, which is a fixed value of 21000 gas units or 53000 gas units when the transaction is a contract creation.\n",
    "2. The cost of the input data, which costs 4 gas units for each zero bytes and 16 gas units for each non-zero byte.\n",
    "3. The cost of the opcodes, which is the sum of all opcodes used in the transaction.\n",
    "4. The gas refunds applied at the end of the transaction, which reduces the total gas cost. These refunds are triggered when the transaction uses the `SSTORE` opcode to set a storage slot to zero.\n",
    "\n",
    "We already have the input data cost computed, and we can add the opcode costs from our data. The intrinsic cost is trivial. So, the final piece we need to compute is the gas refund. For simplicity, we will assume that the gas refund will be the difference between the total gas used by the transaction and the remaining terms.\n"
   ]
  },
  {
   "cell_type": "code",
   "execution_count": 8,
   "metadata": {},
   "outputs": [
    {
     "data": {
      "text/html": [
       "<div>\n",
       "<style scoped>\n",
       "    .dataframe tbody tr th:only-of-type {\n",
       "        vertical-align: middle;\n",
       "    }\n",
       "\n",
       "    .dataframe tbody tr th {\n",
       "        vertical-align: top;\n",
       "    }\n",
       "\n",
       "    .dataframe thead th {\n",
       "        text-align: right;\n",
       "    }\n",
       "</style>\n",
       "<table border=\"1\" class=\"dataframe\">\n",
       "  <thead>\n",
       "    <tr style=\"text-align: right;\">\n",
       "      <th></th>\n",
       "      <th>block_height</th>\n",
       "      <th>tx_hash</th>\n",
       "      <th>op_gas_cost</th>\n",
       "      <th>tx_gas_cost</th>\n",
       "      <th>tx_input_data_cost</th>\n",
       "      <th>is_contract_creation</th>\n",
       "      <th>tx_gas_refund_estimated</th>\n",
       "    </tr>\n",
       "  </thead>\n",
       "  <tbody>\n",
       "    <tr>\n",
       "      <th>0</th>\n",
       "      <td>22000020</td>\n",
       "      <td>0x029c1f067919e7ef9387862fa0624b98a2a3624ec581...</td>\n",
       "      <td>141594.0</td>\n",
       "      <td>160530</td>\n",
       "      <td>736</td>\n",
       "      <td>0</td>\n",
       "      <td>2800.0</td>\n",
       "    </tr>\n",
       "    <tr>\n",
       "      <th>1</th>\n",
       "      <td>22000020</td>\n",
       "      <td>0x0395c4139f9b563fe264651b47699842a6fdaf704cbe...</td>\n",
       "      <td>51859.0</td>\n",
       "      <td>105495</td>\n",
       "      <td>2136</td>\n",
       "      <td>0</td>\n",
       "      <td>-30500.0</td>\n",
       "    </tr>\n",
       "    <tr>\n",
       "      <th>2</th>\n",
       "      <td>22000020</td>\n",
       "      <td>0x050ff26618ce1c10b47644ac628e3648e96c6b217d25...</td>\n",
       "      <td>0.0</td>\n",
       "      <td>21064</td>\n",
       "      <td>64</td>\n",
       "      <td>0</td>\n",
       "      <td>0.0</td>\n",
       "    </tr>\n",
       "    <tr>\n",
       "      <th>3</th>\n",
       "      <td>22000020</td>\n",
       "      <td>0x070584ade4418b6cffa46b54888d33a86f44f1359e78...</td>\n",
       "      <td>0.0</td>\n",
       "      <td>21000</td>\n",
       "      <td>0</td>\n",
       "      <td>0</td>\n",
       "      <td>0.0</td>\n",
       "    </tr>\n",
       "    <tr>\n",
       "      <th>4</th>\n",
       "      <td>22000020</td>\n",
       "      <td>0x0786a329bb718b8afc44465662b6546273eac1d6e728...</td>\n",
       "      <td>8130.0</td>\n",
       "      <td>24890</td>\n",
       "      <td>560</td>\n",
       "      <td>0</td>\n",
       "      <td>4800.0</td>\n",
       "    </tr>\n",
       "  </tbody>\n",
       "</table>\n",
       "</div>"
      ],
      "text/plain": [
       "   block_height                                            tx_hash  \\\n",
       "0      22000020  0x029c1f067919e7ef9387862fa0624b98a2a3624ec581...   \n",
       "1      22000020  0x0395c4139f9b563fe264651b47699842a6fdaf704cbe...   \n",
       "2      22000020  0x050ff26618ce1c10b47644ac628e3648e96c6b217d25...   \n",
       "3      22000020  0x070584ade4418b6cffa46b54888d33a86f44f1359e78...   \n",
       "4      22000020  0x0786a329bb718b8afc44465662b6546273eac1d6e728...   \n",
       "\n",
       "   op_gas_cost  tx_gas_cost  tx_input_data_cost  is_contract_creation  \\\n",
       "0     141594.0       160530                 736                     0   \n",
       "1      51859.0       105495                2136                     0   \n",
       "2          0.0        21064                  64                     0   \n",
       "3          0.0        21000                   0                     0   \n",
       "4       8130.0        24890                 560                     0   \n",
       "\n",
       "   tx_gas_refund_estimated  \n",
       "0                   2800.0  \n",
       "1                 -30500.0  \n",
       "2                      0.0  \n",
       "3                      0.0  \n",
       "4                   4800.0  "
      ]
     },
     "execution_count": 8,
     "metadata": {},
     "output_type": "execute_result"
    }
   ],
   "source": [
    "op_tx_df = (\n",
    "    usage_df.groupby([\"block_height\", \"tx_hash\"])\n",
    "    .agg(\n",
    "        {\n",
    "            \"op_total_gas_cost\": \"sum\",\n",
    "            \"tx_gas_cost\": \"first\",\n",
    "            \"tx_input_data_gas_cost\": \"first\",\n",
    "            \"is_contract_creation\": \"max\",\n",
    "        }\n",
    "    )\n",
    "    .reset_index()\n",
    ")\n",
    "op_tx_df.columns = [\n",
    "    \"block_height\",\n",
    "    \"tx_hash\",\n",
    "    \"op_gas_cost\",\n",
    "    \"tx_gas_cost\",\n",
    "    \"tx_input_data_cost\",\n",
    "    \"is_contract_creation\",\n",
    "]\n",
    "op_tx_df[\"tx_gas_refund_estimated\"] = np.where(\n",
    "    op_tx_df[\"is_contract_creation\"]==1,\n",
    "    op_tx_df[\"op_gas_cost\"] + op_tx_df[\"tx_input_data_cost\"] + 53000.0 - op_tx_df[\"tx_gas_cost\"],\n",
    "    op_tx_df[\"op_gas_cost\"] + op_tx_df[\"tx_input_data_cost\"] + 21000.0 - op_tx_df[\"tx_gas_cost\"],\n",
    ")\n",
    "op_tx_df.head()"
   ]
  },
  {
   "cell_type": "markdown",
   "metadata": {},
   "source": [
    "Let's check the gas refunds."
   ]
  },
  {
   "cell_type": "code",
   "execution_count": 68,
   "metadata": {},
   "outputs": [
    {
     "data": {
      "image/png": "[encoded data removed]",
      "text/plain": [
       "<Figure size 800x200 with 1 Axes>"
      ]
     },
     "metadata": {},
     "output_type": "display_data"
    }
   ],
   "source": [
    "plt.figure(figsize=(8, 2))\n",
    "sns.boxplot(data=op_tx_df, x=\"tx_gas_refund_estimated\")\n",
    "plt.xlabel(\"Estimated gas refunds\")\n",
    "plt.show()"
   ]
  },
  {
   "cell_type": "code",
   "execution_count": 63,
   "metadata": {},
   "outputs": [
    {
     "data": {
      "text/plain": [
       "0.0652887719261748"
      ]
     },
     "execution_count": 63,
     "metadata": {},
     "output_type": "execute_result"
    }
   ],
   "source": [
    "sum(np.abs(op_tx_df[\"tx_gas_refund_estimated\"]/op_tx_df[\"tx_gas_cost\"])>0.2)/len(op_tx_df)"
   ]
  },
  {
   "cell_type": "markdown",
   "metadata": {},
   "source": [
    "Clearly, we have a problem - 6% of transactions have an estimated gas refund of more than 20% of the transaction gas cost, which is not allowed. Gas refunds are always capped by a fifth of the total gas cost. This means that we must have a problem with our opcode usage data.\n",
    "\n",
    "Now, let's looks at the estimated gas refunds within the allowed bands."
   ]
  },
  {
   "cell_type": "code",
   "execution_count": 64,
   "metadata": {},
   "outputs": [
    {
     "data": {
      "image/png": "[encoded data removed]",
      "text/plain": [
       "<Figure size 800x200 with 1 Axes>"
      ]
     },
     "metadata": {},
     "output_type": "display_data"
    }
   ],
   "source": [
    "plt.figure(figsize=(8, 2))\n",
    "sns.boxplot(\n",
    "    data=op_tx_df[\n",
    "        np.abs(op_tx_df[\"tx_gas_refund_estimated\"] / op_tx_df[\"tx_gas_cost\"]) < 0.2\n",
    "    ],\n",
    "    x=\"tx_gas_refund_estimated\",\n",
    ")\n",
    "plt.xlabel(\"Estimated gas refunds (within bounds)\")\n",
    "plt.show()"
   ]
  },
  {
   "cell_type": "markdown",
   "metadata": {},
   "source": [
    "We still have problems as the gas refunds should not be negative. We see 3.2% of such transactions. "
   ]
  },
  {
   "cell_type": "code",
   "execution_count": 65,
   "metadata": {},
   "outputs": [
    {
     "data": {
      "text/plain": [
       "0.03200294024846487"
      ]
     },
     "execution_count": 65,
     "metadata": {},
     "output_type": "execute_result"
    }
   ],
   "source": [
    "negative_refund_txs = op_tx_df[op_tx_df[\"tx_gas_refund_estimated\"]<0]\n",
    "negative_refund_tx_hashes = negative_refund_txs[\"tx_hash\"].unique()\n",
    "negative_refund_tx_op_df = usage_df[usage_df[\"tx_hash\"].isin(negative_refund_tx_hashes)]\n",
    "\n",
    "len(negative_refund_txs)/len(op_tx_df)"
   ]
  },
  {
   "cell_type": "code",
   "execution_count": 66,
   "metadata": {},
   "outputs": [
    {
     "data": {
      "text/plain": [
       "array(['ADD', 'ADDMOD', 'ADDRESS', 'AND', 'BALANCE', 'BASEFEE',\n",
       "       'BLOBBASEFEE', 'BLOBHASH', 'BLOCKHASH', 'BYTE', 'CALL',\n",
       "       'CALLDATACOPY', 'CALLDATALOAD', 'CALLDATASIZE', 'CALLER',\n",
       "       'CALLVALUE', 'CHAINID', 'CODECOPY', 'CODESIZE', 'COINBASE',\n",
       "       'CREATE', 'CREATE2', 'DELEGATECALL', 'DIFFICULTY', 'DIV', 'DUP',\n",
       "       'EQ', 'EXP', 'EXTCODECOPY', 'EXTCODEHASH', 'EXTCODESIZE', 'GAS',\n",
       "       'GASPRICE', 'GT', 'INVALID', 'ISZERO', 'JUMP', 'JUMPDEST', 'JUMPI',\n",
       "       'KECCAK256', 'LOG0', 'LOG1', 'LOG2', 'LOG3', 'LOG4', 'LT', 'MCOPY',\n",
       "       'MLOAD', 'MOD', 'MSIZE', 'MSTORE', 'MSTORE8', 'MUL', 'MULMOD',\n",
       "       'NOT', 'NUMBER', 'OR', 'ORIGIN', 'PC', 'POP', 'PUSH', 'PUSH0',\n",
       "       'RETURN', 'RETURNDATACOPY', 'RETURNDATASIZE', 'REVERT', 'SAR',\n",
       "       'SDIV', 'SELFBALANCE', 'SELFDESTRUCT', 'SGT', 'SHL', 'SHR',\n",
       "       'SIGNEXTEND', 'SLOAD', 'SLT', 'SMOD', 'SSTORE', 'STATICCALL',\n",
       "       'STOP', 'SUB', 'SWAP', 'TIMESTAMP', 'TLOAD', 'TSTORE', 'XOR'],\n",
       "      dtype=object)"
      ]
     },
     "execution_count": 66,
     "metadata": {},
     "output_type": "execute_result"
    }
   ],
   "source": [
    "t = negative_refund_tx_op_df[\"op\"].unique()\n",
    "t.sort()\n",
    "t"
   ]
  },
  {
   "cell_type": "code",
   "execution_count": 67,
   "metadata": {},
   "outputs": [
    {
     "data": {
      "text/plain": [
       "0.9533044420368364"
      ]
     },
     "execution_count": 67,
     "metadata": {},
     "output_type": "execute_result"
    }
   ],
   "source": [
    "tx_with_issue_opcodes = len(\n",
    "    negative_refund_tx_op_df[negative_refund_tx_op_df[\"op\"].isin([\"CREATE\", \"CREATE2\", \"DELEGATECALL\",\"STATICCALL\"])][\n",
    "        \"tx_hash\"\n",
    "    ].unique()\n",
    ")\n",
    "tx_with_issue_opcodes / len(negative_refund_tx_hashes)"
   ]
  },
  {
   "cell_type": "markdown",
   "metadata": {},
   "source": [
    "We still have issues in the opcode data collection as we clearly have some gas costs of opcodes that don't add up. We need to investigate further to understand why this is occurring.\n",
    "\n",
    "For the meantime, we will ignore these transactions and simply assume they use 100% of the gas as compute."
   ]
  },
  {
   "cell_type": "code",
   "execution_count": 70,
   "metadata": {},
   "outputs": [
    {
     "data": {
      "text/html": [
       "<div>\n",
       "<style scoped>\n",
       "    .dataframe tbody tr th:only-of-type {\n",
       "        vertical-align: middle;\n",
       "    }\n",
       "\n",
       "    .dataframe tbody tr th {\n",
       "        vertical-align: top;\n",
       "    }\n",
       "\n",
       "    .dataframe thead th {\n",
       "        text-align: right;\n",
       "    }\n",
       "</style>\n",
       "<table border=\"1\" class=\"dataframe\">\n",
       "  <thead>\n",
       "    <tr style=\"text-align: right;\">\n",
       "      <th></th>\n",
       "      <th>block_height</th>\n",
       "      <th>tx_hash</th>\n",
       "      <th>op_gas_cost</th>\n",
       "      <th>tx_gas_cost</th>\n",
       "      <th>tx_input_data_cost</th>\n",
       "      <th>is_contract_creation</th>\n",
       "      <th>tx_gas_refund_estimated</th>\n",
       "    </tr>\n",
       "  </thead>\n",
       "  <tbody>\n",
       "    <tr>\n",
       "      <th>1</th>\n",
       "      <td>22000020</td>\n",
       "      <td>0x0395c4139f9b563fe264651b47699842a6fdaf704cbe...</td>\n",
       "      <td>51859.0</td>\n",
       "      <td>105495</td>\n",
       "      <td>2136</td>\n",
       "      <td>0</td>\n",
       "      <td>-30500.0</td>\n",
       "    </tr>\n",
       "    <tr>\n",
       "      <th>5</th>\n",
       "      <td>22000020</td>\n",
       "      <td>0x0c8d48db350d1120d9c467cf66cd38d3b054b74d247d...</td>\n",
       "      <td>40639.0</td>\n",
       "      <td>87355</td>\n",
       "      <td>416</td>\n",
       "      <td>0</td>\n",
       "      <td>-25300.0</td>\n",
       "    </tr>\n",
       "    <tr>\n",
       "      <th>51</th>\n",
       "      <td>22000020</td>\n",
       "      <td>0x74b71fbc1654dfc4cf9cc54ee3e5d958a1838d86173f...</td>\n",
       "      <td>607065.0</td>\n",
       "      <td>13943545</td>\n",
       "      <td>991480</td>\n",
       "      <td>0</td>\n",
       "      <td>-12324000.0</td>\n",
       "    </tr>\n",
       "    <tr>\n",
       "      <th>67</th>\n",
       "      <td>22000020</td>\n",
       "      <td>0xa42f78bdd54ed82d871230ae3294de3a4745894dc4ab...</td>\n",
       "      <td>47440.0</td>\n",
       "      <td>116656</td>\n",
       "      <td>1016</td>\n",
       "      <td>0</td>\n",
       "      <td>-47200.0</td>\n",
       "    </tr>\n",
       "    <tr>\n",
       "      <th>97</th>\n",
       "      <td>22000020</td>\n",
       "      <td>0xfcd1d61830478a60fd6d1f812c8d476705111081d2a5...</td>\n",
       "      <td>122099.0</td>\n",
       "      <td>213731</td>\n",
       "      <td>2032</td>\n",
       "      <td>0</td>\n",
       "      <td>-68600.0</td>\n",
       "    </tr>\n",
       "    <tr>\n",
       "      <th>...</th>\n",
       "      <td>...</td>\n",
       "      <td>...</td>\n",
       "      <td>...</td>\n",
       "      <td>...</td>\n",
       "      <td>...</td>\n",
       "      <td>...</td>\n",
       "      <td>...</td>\n",
       "    </tr>\n",
       "    <tr>\n",
       "      <th>288142</th>\n",
       "      <td>22001999</td>\n",
       "      <td>0x4b8cff998759465f4ec3db78c34efeeea14dab1b464e...</td>\n",
       "      <td>526820.0</td>\n",
       "      <td>728356</td>\n",
       "      <td>18236</td>\n",
       "      <td>0</td>\n",
       "      <td>-162300.0</td>\n",
       "    </tr>\n",
       "    <tr>\n",
       "      <th>288195</th>\n",
       "      <td>22001999</td>\n",
       "      <td>0x6a3c1cac2d11d90b14024ffc1fb790620e9242f471d8...</td>\n",
       "      <td>85289.0</td>\n",
       "      <td>143501</td>\n",
       "      <td>3912</td>\n",
       "      <td>0</td>\n",
       "      <td>-33300.0</td>\n",
       "    </tr>\n",
       "    <tr>\n",
       "      <th>288214</th>\n",
       "      <td>22001999</td>\n",
       "      <td>0x73e11135f94d15ce31d79ea4954f0eca2bbd09effbff...</td>\n",
       "      <td>177443.0</td>\n",
       "      <td>337907</td>\n",
       "      <td>25464</td>\n",
       "      <td>0</td>\n",
       "      <td>-114000.0</td>\n",
       "    </tr>\n",
       "    <tr>\n",
       "      <th>288304</th>\n",
       "      <td>22001999</td>\n",
       "      <td>0xae7f8f00b44ccbf72a9d8ae3a62f087a22cd7004e01e...</td>\n",
       "      <td>67309.0</td>\n",
       "      <td>97893</td>\n",
       "      <td>584</td>\n",
       "      <td>0</td>\n",
       "      <td>-9000.0</td>\n",
       "    </tr>\n",
       "    <tr>\n",
       "      <th>288307</th>\n",
       "      <td>22001999</td>\n",
       "      <td>0xafa1c2e97341f1d6b94140db6cc47c7f11902092565e...</td>\n",
       "      <td>302464.0</td>\n",
       "      <td>367824</td>\n",
       "      <td>1160</td>\n",
       "      <td>0</td>\n",
       "      <td>-43200.0</td>\n",
       "    </tr>\n",
       "  </tbody>\n",
       "</table>\n",
       "<p>9230 rows × 7 columns</p>\n",
       "</div>"
      ],
      "text/plain": [
       "        block_height                                            tx_hash  \\\n",
       "1           22000020  0x0395c4139f9b563fe264651b47699842a6fdaf704cbe...   \n",
       "5           22000020  0x0c8d48db350d1120d9c467cf66cd38d3b054b74d247d...   \n",
       "51          22000020  0x74b71fbc1654dfc4cf9cc54ee3e5d958a1838d86173f...   \n",
       "67          22000020  0xa42f78bdd54ed82d871230ae3294de3a4745894dc4ab...   \n",
       "97          22000020  0xfcd1d61830478a60fd6d1f812c8d476705111081d2a5...   \n",
       "...              ...                                                ...   \n",
       "288142      22001999  0x4b8cff998759465f4ec3db78c34efeeea14dab1b464e...   \n",
       "288195      22001999  0x6a3c1cac2d11d90b14024ffc1fb790620e9242f471d8...   \n",
       "288214      22001999  0x73e11135f94d15ce31d79ea4954f0eca2bbd09effbff...   \n",
       "288304      22001999  0xae7f8f00b44ccbf72a9d8ae3a62f087a22cd7004e01e...   \n",
       "288307      22001999  0xafa1c2e97341f1d6b94140db6cc47c7f11902092565e...   \n",
       "\n",
       "        op_gas_cost  tx_gas_cost  tx_input_data_cost  is_contract_creation  \\\n",
       "1           51859.0       105495                2136                     0   \n",
       "5           40639.0        87355                 416                     0   \n",
       "51         607065.0     13943545              991480                     0   \n",
       "67          47440.0       116656                1016                     0   \n",
       "97         122099.0       213731                2032                     0   \n",
       "...             ...          ...                 ...                   ...   \n",
       "288142     526820.0       728356               18236                     0   \n",
       "288195      85289.0       143501                3912                     0   \n",
       "288214     177443.0       337907               25464                     0   \n",
       "288304      67309.0        97893                 584                     0   \n",
       "288307     302464.0       367824                1160                     0   \n",
       "\n",
       "        tx_gas_refund_estimated  \n",
       "1                      -30500.0  \n",
       "5                      -25300.0  \n",
       "51                  -12324000.0  \n",
       "67                     -47200.0  \n",
       "97                     -68600.0  \n",
       "...                         ...  \n",
       "288142                -162300.0  \n",
       "288195                 -33300.0  \n",
       "288214                -114000.0  \n",
       "288304                  -9000.0  \n",
       "288307                 -43200.0  \n",
       "\n",
       "[9230 rows x 7 columns]"
      ]
     },
     "execution_count": 70,
     "metadata": {},
     "output_type": "execute_result"
    }
   ],
   "source": [
    "negative_refund_txs"
   ]
  },
  {
   "cell_type": "code",
   "execution_count": 11,
   "metadata": {},
   "outputs": [
    {
     "data": {
      "text/html": [
       "<div>\n",
       "<style scoped>\n",
       "    .dataframe tbody tr th:only-of-type {\n",
       "        vertical-align: middle;\n",
       "    }\n",
       "\n",
       "    .dataframe tbody tr th {\n",
       "        vertical-align: top;\n",
       "    }\n",
       "\n",
       "    .dataframe thead th {\n",
       "        text-align: right;\n",
       "    }\n",
       "</style>\n",
       "<table border=\"1\" class=\"dataframe\">\n",
       "  <thead>\n",
       "    <tr style=\"text-align: right;\">\n",
       "      <th></th>\n",
       "      <th>block_height</th>\n",
       "      <th>tx_hash</th>\n",
       "      <th>op</th>\n",
       "      <th>op_gas_cost</th>\n",
       "      <th>op_gas_pair_count</th>\n",
       "      <th>tx_gas_cost</th>\n",
       "      <th>tx_input_data_gas_cost</th>\n",
       "      <th>is_contract_creation</th>\n",
       "      <th>op_total_gas_cost</th>\n",
       "    </tr>\n",
       "  </thead>\n",
       "  <tbody>\n",
       "    <tr>\n",
       "      <th>10916</th>\n",
       "      <td>22000020</td>\n",
       "      <td>0x0395c4139f9b563fe264651b47699842a6fdaf704cbe...</td>\n",
       "      <td>DELEGATECALL</td>\n",
       "      <td>100.0</td>\n",
       "      <td>1</td>\n",
       "      <td>105495</td>\n",
       "      <td>2136</td>\n",
       "      <td>0</td>\n",
       "      <td>100.0</td>\n",
       "    </tr>\n",
       "  </tbody>\n",
       "</table>\n",
       "</div>"
      ],
      "text/plain": [
       "       block_height                                            tx_hash  \\\n",
       "10916      22000020  0x0395c4139f9b563fe264651b47699842a6fdaf704cbe...   \n",
       "\n",
       "                 op  op_gas_cost  op_gas_pair_count  tx_gas_cost  \\\n",
       "10916  DELEGATECALL        100.0                  1       105495   \n",
       "\n",
       "       tx_input_data_gas_cost  is_contract_creation  op_total_gas_cost  \n",
       "10916                    2136                     0              100.0  "
      ]
     },
     "execution_count": 11,
     "metadata": {},
     "output_type": "execute_result"
    }
   ],
   "source": [
    "temp_df = usage_df[usage_df[\"tx_hash\"]==\"0x0395c4139f9b563fe264651b47699842a6fdaf704cbea7a58c2ddccb7ec4ea88\"]\n",
    "temp_df[temp_df[\"op\"]==\"DELEGATECALL\"]\n"
   ]
  },
  {
   "cell_type": "code",
   "execution_count": 14,
   "metadata": {},
   "outputs": [
    {
     "data": {
      "text/html": [
       "<div>\n",
       "<style scoped>\n",
       "    .dataframe tbody tr th:only-of-type {\n",
       "        vertical-align: middle;\n",
       "    }\n",
       "\n",
       "    .dataframe tbody tr th {\n",
       "        vertical-align: top;\n",
       "    }\n",
       "\n",
       "    .dataframe thead th {\n",
       "        text-align: right;\n",
       "    }\n",
       "</style>\n",
       "<table border=\"1\" class=\"dataframe\">\n",
       "  <thead>\n",
       "    <tr style=\"text-align: right;\">\n",
       "      <th></th>\n",
       "      <th>block_height</th>\n",
       "      <th>tx_hash</th>\n",
       "      <th>op</th>\n",
       "      <th>op_gas_cost</th>\n",
       "      <th>op_gas_pair_count</th>\n",
       "      <th>tx_gas_cost</th>\n",
       "      <th>tx_input_data_gas_cost</th>\n",
       "      <th>is_contract_creation</th>\n",
       "      <th>op_total_gas_cost</th>\n",
       "    </tr>\n",
       "  </thead>\n",
       "  <tbody>\n",
       "    <tr>\n",
       "      <th>27</th>\n",
       "      <td>22000020</td>\n",
       "      <td>0x0395c4139f9b563fe264651b47699842a6fdaf704cbe...</td>\n",
       "      <td>MSTORE</td>\n",
       "      <td>12.0</td>\n",
       "      <td>8</td>\n",
       "      <td>105495</td>\n",
       "      <td>2136</td>\n",
       "      <td>0</td>\n",
       "      <td>96.0</td>\n",
       "    </tr>\n",
       "    <tr>\n",
       "      <th>28</th>\n",
       "      <td>22000020</td>\n",
       "      <td>0x0395c4139f9b563fe264651b47699842a6fdaf704cbe...</td>\n",
       "      <td>CALLDATASIZE</td>\n",
       "      <td>2.0</td>\n",
       "      <td>9</td>\n",
       "      <td>105495</td>\n",
       "      <td>2136</td>\n",
       "      <td>0</td>\n",
       "      <td>18.0</td>\n",
       "    </tr>\n",
       "    <tr>\n",
       "      <th>29</th>\n",
       "      <td>22000020</td>\n",
       "      <td>0x0395c4139f9b563fe264651b47699842a6fdaf704cbe...</td>\n",
       "      <td>DUP</td>\n",
       "      <td>3.0</td>\n",
       "      <td>270</td>\n",
       "      <td>105495</td>\n",
       "      <td>2136</td>\n",
       "      <td>0</td>\n",
       "      <td>810.0</td>\n",
       "    </tr>\n",
       "    <tr>\n",
       "      <th>30</th>\n",
       "      <td>22000020</td>\n",
       "      <td>0x0395c4139f9b563fe264651b47699842a6fdaf704cbe...</td>\n",
       "      <td>DUP</td>\n",
       "      <td>3.0</td>\n",
       "      <td>273</td>\n",
       "      <td>105495</td>\n",
       "      <td>2136</td>\n",
       "      <td>0</td>\n",
       "      <td>819.0</td>\n",
       "    </tr>\n",
       "    <tr>\n",
       "      <th>31</th>\n",
       "      <td>22000020</td>\n",
       "      <td>0x0395c4139f9b563fe264651b47699842a6fdaf704cbe...</td>\n",
       "      <td>DUP</td>\n",
       "      <td>3.0</td>\n",
       "      <td>36</td>\n",
       "      <td>105495</td>\n",
       "      <td>2136</td>\n",
       "      <td>0</td>\n",
       "      <td>108.0</td>\n",
       "    </tr>\n",
       "    <tr>\n",
       "      <th>...</th>\n",
       "      <td>...</td>\n",
       "      <td>...</td>\n",
       "      <td>...</td>\n",
       "      <td>...</td>\n",
       "      <td>...</td>\n",
       "      <td>...</td>\n",
       "      <td>...</td>\n",
       "      <td>...</td>\n",
       "      <td>...</td>\n",
       "    </tr>\n",
       "    <tr>\n",
       "      <th>16304</th>\n",
       "      <td>22000020</td>\n",
       "      <td>0x0395c4139f9b563fe264651b47699842a6fdaf704cbe...</td>\n",
       "      <td>EXTCODESIZE</td>\n",
       "      <td>100.0</td>\n",
       "      <td>1</td>\n",
       "      <td>105495</td>\n",
       "      <td>2136</td>\n",
       "      <td>0</td>\n",
       "      <td>100.0</td>\n",
       "    </tr>\n",
       "    <tr>\n",
       "      <th>16305</th>\n",
       "      <td>22000020</td>\n",
       "      <td>0x0395c4139f9b563fe264651b47699842a6fdaf704cbe...</td>\n",
       "      <td>MSTORE8</td>\n",
       "      <td>3.0</td>\n",
       "      <td>1</td>\n",
       "      <td>105495</td>\n",
       "      <td>2136</td>\n",
       "      <td>0</td>\n",
       "      <td>3.0</td>\n",
       "    </tr>\n",
       "    <tr>\n",
       "      <th>16306</th>\n",
       "      <td>22000020</td>\n",
       "      <td>0x0395c4139f9b563fe264651b47699842a6fdaf704cbe...</td>\n",
       "      <td>CODECOPY</td>\n",
       "      <td>6.0</td>\n",
       "      <td>1</td>\n",
       "      <td>105495</td>\n",
       "      <td>2136</td>\n",
       "      <td>0</td>\n",
       "      <td>6.0</td>\n",
       "    </tr>\n",
       "    <tr>\n",
       "      <th>16307</th>\n",
       "      <td>22000020</td>\n",
       "      <td>0x0395c4139f9b563fe264651b47699842a6fdaf704cbe...</td>\n",
       "      <td>STOP</td>\n",
       "      <td>0.0</td>\n",
       "      <td>1</td>\n",
       "      <td>105495</td>\n",
       "      <td>2136</td>\n",
       "      <td>0</td>\n",
       "      <td>0.0</td>\n",
       "    </tr>\n",
       "    <tr>\n",
       "      <th>16308</th>\n",
       "      <td>22000020</td>\n",
       "      <td>0x0395c4139f9b563fe264651b47699842a6fdaf704cbe...</td>\n",
       "      <td>BASEFEE</td>\n",
       "      <td>2.0</td>\n",
       "      <td>2</td>\n",
       "      <td>105495</td>\n",
       "      <td>2136</td>\n",
       "      <td>0</td>\n",
       "      <td>4.0</td>\n",
       "    </tr>\n",
       "  </tbody>\n",
       "</table>\n",
       "<p>115 rows × 9 columns</p>\n",
       "</div>"
      ],
      "text/plain": [
       "       block_height                                            tx_hash  \\\n",
       "27         22000020  0x0395c4139f9b563fe264651b47699842a6fdaf704cbe...   \n",
       "28         22000020  0x0395c4139f9b563fe264651b47699842a6fdaf704cbe...   \n",
       "29         22000020  0x0395c4139f9b563fe264651b47699842a6fdaf704cbe...   \n",
       "30         22000020  0x0395c4139f9b563fe264651b47699842a6fdaf704cbe...   \n",
       "31         22000020  0x0395c4139f9b563fe264651b47699842a6fdaf704cbe...   \n",
       "...             ...                                                ...   \n",
       "16304      22000020  0x0395c4139f9b563fe264651b47699842a6fdaf704cbe...   \n",
       "16305      22000020  0x0395c4139f9b563fe264651b47699842a6fdaf704cbe...   \n",
       "16306      22000020  0x0395c4139f9b563fe264651b47699842a6fdaf704cbe...   \n",
       "16307      22000020  0x0395c4139f9b563fe264651b47699842a6fdaf704cbe...   \n",
       "16308      22000020  0x0395c4139f9b563fe264651b47699842a6fdaf704cbe...   \n",
       "\n",
       "                 op  op_gas_cost  op_gas_pair_count  tx_gas_cost  \\\n",
       "27           MSTORE         12.0                  8       105495   \n",
       "28     CALLDATASIZE          2.0                  9       105495   \n",
       "29              DUP          3.0                270       105495   \n",
       "30              DUP          3.0                273       105495   \n",
       "31              DUP          3.0                 36       105495   \n",
       "...             ...          ...                ...          ...   \n",
       "16304   EXTCODESIZE        100.0                  1       105495   \n",
       "16305       MSTORE8          3.0                  1       105495   \n",
       "16306      CODECOPY          6.0                  1       105495   \n",
       "16307          STOP          0.0                  1       105495   \n",
       "16308       BASEFEE          2.0                  2       105495   \n",
       "\n",
       "       tx_input_data_gas_cost  is_contract_creation  op_total_gas_cost  \n",
       "27                       2136                     0               96.0  \n",
       "28                       2136                     0               18.0  \n",
       "29                       2136                     0              810.0  \n",
       "30                       2136                     0              819.0  \n",
       "31                       2136                     0              108.0  \n",
       "...                       ...                   ...                ...  \n",
       "16304                    2136                     0              100.0  \n",
       "16305                    2136                     0                3.0  \n",
       "16306                    2136                     0                6.0  \n",
       "16307                    2136                     0                0.0  \n",
       "16308                    2136                     0                4.0  \n",
       "\n",
       "[115 rows x 9 columns]"
      ]
     },
     "execution_count": 14,
     "metadata": {},
     "output_type": "execute_result"
    }
   ],
   "source": [
    "usage_df[usage_df[\"tx_hash\"]==\"0x0395c4139f9b563fe264651b47699842a6fdaf704cbea7a58c2ddccb7ec4ea88\"]"
   ]
  },
  {
   "cell_type": "code",
   "execution_count": null,
   "metadata": {},
   "outputs": [],
   "source": []
  }
 ],
 "metadata": {
  "kernelspec": {
   "display_name": "multi-dim-gas-analysis",
   "language": "python",
   "name": "python3"
  },
  "language_info": {
   "codemirror_mode": {
    "name": "ipython",
    "version": 3
   },
   "file_extension": ".py",
   "mimetype": "text/x-python",
   "name": "python",
   "nbconvert_exporter": "python",
   "pygments_lexer": "ipython3",
   "version": "3.12.9"
  }
 },
 "nbformat": 4,
 "nbformat_minor": 2
}
