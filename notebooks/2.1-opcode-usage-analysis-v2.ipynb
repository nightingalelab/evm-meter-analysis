{
 "cells": [
  {
   "cell_type": "markdown",
   "metadata": {},
   "source": [
    "# Opcode usage - exploratory analysis\n",
    "\n",
    "#### Maria Silva, March 2025\n",
    "\n",
    "## 1. Imports and settings\n",
    "\n",
    "Let's start by importing the necessary libraries and setting up some directories and files.\n"
   ]
  },
  {
   "cell_type": "code",
   "execution_count": null,
   "metadata": {},
   "outputs": [],
   "source": [
    "import os\n",
    "import duckdb\n",
    "import pandas as pd\n",
    "import numpy as np\n",
    "import matplotlib.pyplot as plt\n",
    "import seaborn as sns"
   ]
  },
  {
   "cell_type": "code",
   "execution_count": null,
   "metadata": {},
   "outputs": [],
   "source": [
    "# Main directories and files\n",
    "current_path = os.getcwd()\n",
    "repo_dir = os.path.abspath(os.path.join(current_path, \"..\"))\n",
    "data_dir = os.path.join(repo_dir, \"data\")\n",
    "op_files_dir = os.path.join(data_dir, \"aggregated_opcodes_v2\", \"*\", \"file.parquet\")"
   ]
  },
  {
   "cell_type": "markdown",
   "metadata": {},
   "source": [
    "## 2. Load data\n",
    "\n",
    "Now, let's load the data. We will start by loading the opcodes used for blocks 22000000 to 22001999."
   ]
  },
  {
   "cell_type": "code",
   "execution_count": null,
   "metadata": {},
   "outputs": [],
   "source": [
    "# Load parquet files with duckdb\n",
    "query = f\"\"\"\n",
    "SELECT block_height, tx_hash, op, op_gas_cost, op_gas_pair_count\n",
    "FROM read_parquet(\n",
    "    '{op_files_dir}', \n",
    "    hive_partitioning=True, \n",
    "    filename=True,\n",
    "    file_row_number=True,\n",
    "    union_by_name=True\n",
    "    )\n",
    "WHERE block_height BETWEEN 22000000 AND 22001999;\n",
    "\"\"\"\n",
    "raw_usage_df = duckdb.connect().execute(query).fetchdf()\n",
    "# Print info\n",
    "raw_usage_df.info()"
   ]
  },
  {
   "cell_type": "code",
   "execution_count": null,
   "metadata": {},
   "outputs": [],
   "source": [
    "raw_usage_df[\"block_height\"].agg([\"min\", \"max\"])"
   ]
  },
  {
   "cell_type": "markdown",
   "metadata": {},
   "source": [
    "Now, we can load the gas used per transaction."
   ]
  },
  {
   "cell_type": "code",
   "execution_count": null,
   "metadata": {},
   "outputs": [],
   "source": [
    "# Load parquet file\n",
    "tx_gas_usage_df = pd.read_parquet(\n",
    "    os.path.join(data_dir, \"tx_gas_usage_22000000_22006000.parquet\")\n",
    ")\n",
    "# Clean up columns\n",
    "tx_gas_usage_df = tx_gas_usage_df.drop(columns=[\"block_height\"])\n",
    "tx_gas_usage_df.columns = [\n",
    "    \"tx_hash\",\n",
    "    \"tx_gas_cost\",\n",
    "    \"tx_input_data_gas_cost\",\n",
    "    \"is_contract_creation\",\n",
    "]\n",
    "# Print info\n",
    "tx_gas_usage_df.info()"
   ]
  },
  {
   "cell_type": "markdown",
   "metadata": {},
   "source": [
    "## 3. Process data"
   ]
  },
  {
   "cell_type": "code",
   "execution_count": null,
   "metadata": {},
   "outputs": [],
   "source": [
    "# Add total transaction gas\n",
    "usage_df = raw_usage_df.merge(tx_gas_usage_df, on=\"tx_hash\", how=\"left\")\n",
    "# Fix op_gas_cost for transactions with no opcodes\n",
    "usage_df[\"op_gas_cost\"] = np.where(\n",
    "    (usage_df[\"op\"].isin([\"NO_TRACE\", \"RESPONSE_TOO_LARGE\"])) & (usage_df[\"is_contract_creation\"]==0),\n",
    "    usage_df[\"tx_gas_cost\"] - usage_df[\"tx_input_data_gas_cost\"] - 21000.0,\n",
    "    usage_df[\"op_gas_cost\"],\n",
    ")\n",
    "usage_df[\"op_gas_cost\"] = np.where(\n",
    "    (usage_df[\"op\"].isin([\"NO_TRACE\", \"RESPONSE_TOO_LARGE\"])) & (usage_df[\"is_contract_creation\"]==1),\n",
    "    usage_df[\"tx_gas_cost\"] - usage_df[\"tx_input_data_gas_cost\"] - 53000.0,\n",
    "    usage_df[\"op_gas_cost\"],\n",
    ")\n",
    "# Clean up repeated opcodes\n",
    "usage_df[\"op\"] = np.where(usage_df[\"op\"].str.startswith(\"DUP\"), \"DUP\", usage_df[\"op\"])\n",
    "usage_df[\"op\"] = np.where(usage_df[\"op\"].str.startswith(\"SWAP\"), \"SWAP\", usage_df[\"op\"])\n",
    "usage_df[\"op\"] = np.where(\n",
    "    (usage_df[\"op\"].str.startswith(\"PUSH\")) & (usage_df[\"op\"] != \"PUSH0\"),\n",
    "    \"PUSH\",\n",
    "    usage_df[\"op\"],\n",
    ")\n",
    "# Compute total gas cost for opcode\n",
    "usage_df[\"op_total_gas_cost\"] = usage_df[\"op_gas_cost\"] * usage_df[\"op_gas_pair_count\"]\n",
    "# Print info\n",
    "usage_df.info()"
   ]
  },
  {
   "cell_type": "markdown",
   "metadata": {},
   "source": [
    "## 4. Opcode usage overview\n",
    "\n",
    "### Opcode usage counts"
   ]
  },
  {
   "cell_type": "code",
   "execution_count": null,
   "metadata": {},
   "outputs": [],
   "source": [
    "temp_df = (\n",
    "    usage_df[~usage_df[\"op\"].isin([\"NO_TRACE\", \"RESPONSE_TOO_LARGE\"])]\n",
    "    .groupby(\"op\")[\"op_gas_pair_count\"]\n",
    "    .sum()\n",
    "    .reset_index()\n",
    ")\n",
    "temp_df[\"op_gas_pair_count\"] = temp_df[\"op_gas_pair_count\"] / 1_000_000\n",
    "plt.figure(figsize=(16, 3))\n",
    "plt.grid()\n",
    "sns.barplot(x=\"op\", y=\"op_gas_pair_count\", data=temp_df)\n",
    "plt.xticks(rotation=90)\n",
    "plt.title(\"Opcode usage for blocks 22000020 to 22001999\")\n",
    "plt.ylabel(\"Number of times opcode was used\\n(Millions)\")\n",
    "plt.xlabel(\"\")\n",
    "plt.show()"
   ]
  },
  {
   "cell_type": "code",
   "execution_count": null,
   "metadata": {},
   "outputs": [],
   "source": [
    "temp_df = (\n",
    "    usage_df[~usage_df[\"op\"].isin([\"NO_TRACE\", \"RESPONSE_TOO_LARGE\"])]\n",
    "    .groupby(\"op\")[\"op_gas_pair_count\"]\n",
    "    .sum()\n",
    "    .reset_index()\n",
    ")\n",
    "temp_df[\"op_gas_pair_count\"] = temp_df[\"op_gas_pair_count\"]\n",
    "plt.figure(figsize=(16, 3))\n",
    "plt.grid()\n",
    "sns.barplot(x=\"op\", y=\"op_gas_pair_count\", data=temp_df)\n",
    "plt.xticks(rotation=90)\n",
    "plt.yscale(\"log\")\n",
    "plt.title(\"Opcode usage for blocks 22000020 to 22001999\")\n",
    "plt.ylabel(\"Number of times opcode was used\\n(log scale)\")\n",
    "plt.xlabel(\"\")\n",
    "plt.show()"
   ]
  },
  {
   "cell_type": "markdown",
   "metadata": {},
   "source": [
    "### Opcode gas usage"
   ]
  },
  {
   "cell_type": "code",
   "execution_count": null,
   "metadata": {},
   "outputs": [],
   "source": [
    "temp_df = (\n",
    "    usage_df[~usage_df[\"op\"].isin([\"NO_TRACE\", \"RESPONSE_TOO_LARGE\"])]\n",
    "    .groupby(\"op\")[\"op_total_gas_cost\"]\n",
    "    .sum()\n",
    "    .reset_index()\n",
    ")\n",
    "temp_df[\"op_total_gas_cost\"] = temp_df[\"op_total_gas_cost\"] / 1_000_000_000\n",
    "plt.figure(figsize=(16, 3))\n",
    "plt.grid()\n",
    "sns.barplot(x=\"op\", y=\"op_total_gas_cost\", data=temp_df)\n",
    "plt.xticks(rotation=90)\n",
    "plt.title(\"Opcode usage for blocks 22000020 to 22001999\")\n",
    "plt.ylabel(\"Total units of gas used for opcode\\n(Billions)\")\n",
    "plt.xlabel(\"\")\n",
    "plt.show()"
   ]
  },
  {
   "cell_type": "code",
   "execution_count": null,
   "metadata": {},
   "outputs": [],
   "source": [
    "temp_df = (\n",
    "    usage_df[~usage_df[\"op\"].isin([\"NO_TRACE\", \"RESPONSE_TOO_LARGE\"])]\n",
    "    .groupby(\"op\")[\"op_total_gas_cost\"]\n",
    "    .sum()\n",
    "    .reset_index()\n",
    ")\n",
    "temp_df[\"op_total_gas_cost\"] = temp_df[\"op_total_gas_cost\"]\n",
    "plt.figure(figsize=(16, 3))\n",
    "plt.grid()\n",
    "sns.barplot(x=\"op\", y=\"op_total_gas_cost\", data=temp_df)\n",
    "plt.xticks(rotation=90)\n",
    "plt.yscale(\"log\")\n",
    "plt.title(\"Opcode usage for blocks 22000020 to 22001999\")\n",
    "plt.ylabel(\"Total units of gas used for opcode\\n(log scale)\")\n",
    "plt.xlabel(\"\")\n",
    "plt.show()"
   ]
  },
  {
   "cell_type": "markdown",
   "metadata": {},
   "source": [
    "### Opcode usage correlation"
   ]
  },
  {
   "cell_type": "code",
   "execution_count": null,
   "metadata": {},
   "outputs": [],
   "source": [
    "temp_df = pd.pivot_table(\n",
    "    usage_df[~usage_df[\"op\"].isin([\"NO_TRACE\", \"RESPONSE_TOO_LARGE\"])],\n",
    "    values=\"op_gas_pair_count\",\n",
    "    index=\"tx_hash\",\n",
    "    columns=\"op\",\n",
    "    aggfunc=\"sum\",\n",
    "    fill_value=0.0,\n",
    ")\n",
    "corr_mat = temp_df.corr()\n",
    "plt.figure(figsize=(8, 6))\n",
    "ax = sns.heatmap(corr_mat, cmap=\"YlGnBu\", linewidths=0.5)\n",
    "plt.title(\"Opcode correlation - usage count\")\n",
    "ax.tick_params(axis=\"x\", labelsize=7)\n",
    "ax.tick_params(axis=\"y\", labelsize=7)\n",
    "plt.tight_layout()\n",
    "plt.show()"
   ]
  },
  {
   "cell_type": "code",
   "execution_count": null,
   "metadata": {},
   "outputs": [],
   "source": [
    "temp_df = pd.pivot_table(\n",
    "    usage_df[~usage_df[\"op\"].isin([\"NO_TRACE\", \"RESPONSE_TOO_LARGE\"])],\n",
    "    values=\"op_total_gas_cost\",\n",
    "    index=\"tx_hash\",\n",
    "    columns=\"op\",\n",
    "    aggfunc=\"sum\",\n",
    "    fill_value=0.0,\n",
    ")\n",
    "corr_mat = temp_df.corr()\n",
    "plt.figure(figsize=(8, 6))\n",
    "ax = sns.heatmap(corr_mat, cmap=\"YlGnBu\", linewidths=0.5)\n",
    "plt.title(\"Opcode correlation - gas used\")\n",
    "ax.tick_params(axis=\"x\", labelsize=7)\n",
    "ax.tick_params(axis=\"y\", labelsize=7)\n",
    "plt.show()"
   ]
  },
  {
   "cell_type": "markdown",
   "metadata": {},
   "source": [
    "## 5. Opcode gas usage vs transaction gas usage\n",
    "\n",
    "Next, we will compare the total gas cost of the transaction with the cost of all opcodes used in the transaction. There are four main components to consider:\n",
    "\n",
    "1. The intrinsic cost of the transaction, which is a fixed value of 21000 gas units or 53000 gas units when the transaction is a contract creation.\n",
    "2. The cost of the input data, which costs 4 gas units for each zero bytes and 16 gas units for each non-zero byte.\n",
    "3. The cost of the opcodes, which is the sum of all opcodes used in the transaction.\n",
    "4. The gas refunds applied at the end of the transaction, which reduces the total gas cost. These refunds are triggered when the transaction uses the `SSTORE` opcode to set a storage slot to zero.\n",
    "\n",
    "We already have the input data cost computed, and we can add the opcode costs from our data. The intrinsic cost is trivial. So, the final piece we need to compute is the gas refund. For simplicity, we will assume that the gas refund will be the difference between the total gas used by the transaction and the remaining terms.\n"
   ]
  },
  {
   "cell_type": "code",
   "execution_count": null,
   "metadata": {},
   "outputs": [],
   "source": [
    "op_tx_df = (\n",
    "    usage_df.groupby([\"block_height\", \"tx_hash\"])\n",
    "    .agg(\n",
    "        {\n",
    "            \"op_total_gas_cost\": \"sum\",\n",
    "            \"tx_gas_cost\": \"first\",\n",
    "            \"tx_input_data_gas_cost\": \"first\",\n",
    "            \"is_contract_creation\": \"max\",\n",
    "        }\n",
    "    )\n",
    "    .reset_index()\n",
    ")\n",
    "op_tx_df.columns = [\n",
    "    \"block_height\",\n",
    "    \"tx_hash\",\n",
    "    \"op_gas_cost\",\n",
    "    \"tx_gas_cost\",\n",
    "    \"tx_input_data_cost\",\n",
    "    \"is_contract_creation\",\n",
    "]\n",
    "op_tx_df[\"tx_gas_refund_estimated\"] = np.where(\n",
    "    op_tx_df[\"is_contract_creation\"]==1,\n",
    "    op_tx_df[\"op_gas_cost\"] + op_tx_df[\"tx_input_data_cost\"] + 53000.0 - op_tx_df[\"tx_gas_cost\"],\n",
    "    op_tx_df[\"op_gas_cost\"] + op_tx_df[\"tx_input_data_cost\"] + 21000.0 - op_tx_df[\"tx_gas_cost\"],\n",
    ")\n",
    "op_tx_df[\"tx_gas_refund_rate\"] =  np.where(\n",
    "    op_tx_df[\"is_contract_creation\"]==1,\n",
    "    op_tx_df[\"tx_gas_refund_estimated\"]/(op_tx_df[\"op_gas_cost\"] + op_tx_df[\"tx_input_data_cost\"] + 53000.0),\n",
    "    op_tx_df[\"tx_gas_refund_estimated\"]/(op_tx_df[\"op_gas_cost\"] + op_tx_df[\"tx_input_data_cost\"] + 21000.0),\n",
    ")\n",
    "op_tx_df.head()"
   ]
  },
  {
   "cell_type": "markdown",
   "metadata": {},
   "source": [
    "Let's check the gas refunds."
   ]
  },
  {
   "cell_type": "code",
   "execution_count": null,
   "metadata": {},
   "outputs": [],
   "source": [
    "plt.figure(figsize=(8, 2))\n",
    "sns.boxplot(data=op_tx_df, x=\"tx_gas_refund_estimated\")\n",
    "plt.xlabel(\"Estimated gas refunds\")\n",
    "plt.show()"
   ]
  },
  {
   "cell_type": "code",
   "execution_count": null,
   "metadata": {},
   "outputs": [],
   "source": [
    "plt.figure(figsize=(8, 2))\n",
    "sns.boxplot(data=op_tx_df, x=\"tx_gas_refund_rate\")\n",
    "plt.xlabel(\"Estimated gas refunds - rate over gas before refund\")\n",
    "plt.show()"
   ]
  },
  {
   "cell_type": "code",
   "execution_count": null,
   "metadata": {},
   "outputs": [],
   "source": [
    "sum(np.abs(op_tx_df[\"tx_gas_refund_rate\"])>0.2)/len(op_tx_df)"
   ]
  }
 ],
 "metadata": {
  "kernelspec": {
   "display_name": ".venv",
   "language": "python",
   "name": "python3"
  },
  "language_info": {
   "codemirror_mode": {
    "name": "ipython",
    "version": 3
   },
   "file_extension": ".py",
   "mimetype": "text/x-python",
   "name": "python",
   "nbconvert_exporter": "python",
   "pygments_lexer": "ipython3",
   "version": "3.12.4"
  }
 },
 "nbformat": 4,
 "nbformat_minor": 2
}
